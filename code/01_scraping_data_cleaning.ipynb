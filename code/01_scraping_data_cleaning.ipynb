{
 "cells": [
  {
   "cell_type": "code",
   "execution_count": 1,
   "metadata": {},
   "outputs": [],
   "source": [
    "# Import modules\n",
    "\n",
    "import numpy as np\n",
    "import pandas as pd\n",
    "import re\n",
    "from scraper import Subreddit\n",
    "\n",
    "# Set pandas to display a maximum of 400 characters in the column\n",
    "pd.options.display.max_colwidth = 400"
   ]
  },
  {
   "cell_type": "markdown",
   "metadata": {},
   "source": [
    "---\n",
    "\n",
    "# 01 - Web Scraping\n",
    "\n",
    "We will be using my custom class, `scraper.Subreddit` to perform the web scraping from Reddit.  \n",
    "\n",
    "My custom class contains methods to scrape a particular subreddit (which will be the instance) and create DataFrames of the resulting data from the json, or load the json, or csv files directly.  \n",
    "\n",
    "The scraping method will ignore any posts which have been deleted from the subreddit, as these are likely spam or irrelevant posts.  \n",
    "\n",
    "It also includes methods for retrieving each news article's text from its url using the newspaper3 python package which can be installed as per the instructions from the [webpage](https://newspaper.readthedocs.io/en/latest/).  \n",
    "\n",
    "\n",
    "Further, there are methods to remove duplicate posts, and sort the posts by `article_text` length, which will be used to explore and clean the gathered data."
   ]
  },
  {
   "cell_type": "markdown",
   "metadata": {},
   "source": [
    "## Scraping Subreddit 01 - World News\n",
    "\n",
    "First, we will instantiate an instance of the class for the `worldnews` subreddit, and scrape at least 1200 of the most recent posts.  \n",
    "\n",
    "Next, we will use newspaper3 to attempt to pull the article text from each post.\n",
    "\n",
    "As the posts have been scraped previously, the codes have been commented out.  \n",
    "\n",
    "The DataFrame will be created from the .csv file instead."
   ]
  },
  {
   "cell_type": "code",
   "execution_count": 2,
   "metadata": {},
   "outputs": [],
   "source": [
    "# Instantiate an instance of the class for the 'worldnews' subreddit\n",
    "\n",
    "world_news = Subreddit('worldnews')"
   ]
  },
  {
   "cell_type": "code",
   "execution_count": 3,
   "metadata": {},
   "outputs": [],
   "source": [
    "# Scrape the most recent 1200 posts\n",
    "\n",
    "# world_news.scrape(1200)"
   ]
  },
  {
   "cell_type": "code",
   "execution_count": 4,
   "metadata": {},
   "outputs": [],
   "source": [
    "# Pull the article text using newspaper3\n",
    "\n",
    "# world_news.news_text_pull()"
   ]
  },
  {
   "cell_type": "code",
   "execution_count": 5,
   "metadata": {},
   "outputs": [],
   "source": [
    "# Create a DataFrame including article text\n",
    "\n",
    "world_news.df_from_csv('full')"
   ]
  },
  {
   "cell_type": "markdown",
   "metadata": {},
   "source": [
    "## Scraping Subreddit 02 - TheOnion  \n",
    "\n",
    "We instantiate an instance of our second subreddit, `theonion` and repeat the steps.  \n",
    "\n",
    "Once again, the codes for scraping have been commented out as this has been done previously."
   ]
  },
  {
   "cell_type": "code",
   "execution_count": 6,
   "metadata": {},
   "outputs": [],
   "source": [
    "# Instantiate an instance of the class for the 'worldnews' subreddit\n",
    "\n",
    "theonion = Subreddit('theonion')"
   ]
  },
  {
   "cell_type": "code",
   "execution_count": 7,
   "metadata": {},
   "outputs": [],
   "source": [
    "# Scrape the most recent 1200 posts\n",
    "\n",
    "# theonion.scrape(1200)"
   ]
  },
  {
   "cell_type": "code",
   "execution_count": 8,
   "metadata": {},
   "outputs": [],
   "source": [
    "# Pull the article text using newspaper3\n",
    "\n",
    "# theonion.news_text_pull()"
   ]
  },
  {
   "cell_type": "code",
   "execution_count": 9,
   "metadata": {},
   "outputs": [],
   "source": [
    "# Create a DataFrame including article text\n",
    "\n",
    "theonion.df_from_csv()"
   ]
  },
  {
   "cell_type": "markdown",
   "metadata": {},
   "source": [
    "---\n",
    "\n",
    "# 02 - Data cleaning\n"
   ]
  },
  {
   "cell_type": "markdown",
   "metadata": {},
   "source": [
    "## Cleaning Subreddit 01 - World News\n",
    "\n",
    "Now that we have created the DataFrames, we will check for any duplicated or null values.  \n",
    "These duplicate and null values will be removed to ensure that our model will not be affected by them.\n",
    "\n",
    "We will use the method `remove_duplicates` from our custom class to attempt to remove the duplicate entries from all dataframes which are loaded for the instance."
   ]
  },
  {
   "cell_type": "code",
   "execution_count": 10,
   "metadata": {},
   "outputs": [
    {
     "data": {
      "text/html": [
       "<div>\n",
       "<style scoped>\n",
       "    .dataframe tbody tr th:only-of-type {\n",
       "        vertical-align: middle;\n",
       "    }\n",
       "\n",
       "    .dataframe tbody tr th {\n",
       "        vertical-align: top;\n",
       "    }\n",
       "\n",
       "    .dataframe thead th {\n",
       "        text-align: right;\n",
       "    }\n",
       "</style>\n",
       "<table border=\"1\" class=\"dataframe\">\n",
       "  <thead>\n",
       "    <tr style=\"text-align: right;\">\n",
       "      <th></th>\n",
       "      <th>subreddit</th>\n",
       "      <th>title</th>\n",
       "      <th>url</th>\n",
       "      <th>article_text</th>\n",
       "    </tr>\n",
       "  </thead>\n",
       "  <tbody>\n",
       "    <tr>\n",
       "      <th>14</th>\n",
       "      <td>worldnews</td>\n",
       "      <td>'Out of control' fire breaks out in Cape Town's Table Mountain National Park</td>\n",
       "      <td>https://www.cnn.com/2021/04/18/africa/table-mountain-south-africa-fire-intl-afr/index.html</td>\n",
       "      <td>(CNN) An \"out of control\" fire has broken out in Cape Town's Table Mountain National Park on Sunday, according to South African officials, prompting the evacuation of hikers from the city's most famous landmark.\\n\\nMore than 120 firefighters are battling the massive blaze, and four helicopters have been deployed to help with the efforts, according to a media release shared by a Twitter account...</td>\n",
       "    </tr>\n",
       "    <tr>\n",
       "      <th>106</th>\n",
       "      <td>worldnews</td>\n",
       "      <td>'Out of control' fire breaks out in Cape Town's Table Mountain National Park</td>\n",
       "      <td>https://edition.cnn.com/2021/04/18/africa/table-mountain-south-africa-fire-intl-afr/index.html</td>\n",
       "      <td>(CNN) An \"out of control\" fire has broken out in Cape Town's Table Mountain National Park on Sunday, according to South African officials, prompting the evacuation of hikers from the city's most famous landmark.\\n\\nMore than 120 firefighters are battling the massive blaze, and four helicopters have been deployed to help with the efforts, according to a media release shared by a Twitter account...</td>\n",
       "    </tr>\n",
       "    <tr>\n",
       "      <th>81</th>\n",
       "      <td>worldnews</td>\n",
       "      <td>'Out of control' fire breaks out in Cape Town's Table Mountain National Park</td>\n",
       "      <td>https://edition.cnn.com/2021/04/18/africa/table-mountain-south-africa-fire-intl-afr/index.html</td>\n",
       "      <td>(CNN) An \"out of control\" fire has broken out in Cape Town's Table Mountain National Park on Sunday, according to South African officials, prompting the evacuation of hikers from the city's most famous landmark.\\n\\nMore than 120 firefighters are battling the massive blaze, and four helicopters have been deployed to help with the efforts, according to a media release shared by a Twitter account...</td>\n",
       "    </tr>\n",
       "    <tr>\n",
       "      <th>873</th>\n",
       "      <td>worldnews</td>\n",
       "      <td>'You can't clone us': Polish doctors cry for help as COVID deaths spike</td>\n",
       "      <td>https://www.reuters.com/world/europe/you-cant-clone-us-polish-doctors-cry-help-covid-deaths-spike-2021-04-16/</td>\n",
       "      <td>When the pandemic began last year, Kinga Szlachcic-Wyroba, an anaesthesiologist in the Stefan Zeromski Specialist Hospital in Krakow, Poland, had to manage one COVID-19 patient and 10 others in intensive care with three other doctors.\\n\\nNow the third wave has hit Poland and the number of COVID-19 patients in intensive care stands at 17, with just four non-COVID sufferers. Around 80% of the CO...</td>\n",
       "    </tr>\n",
       "    <tr>\n",
       "      <th>730</th>\n",
       "      <td>worldnews</td>\n",
       "      <td>'You can't clone us': Polish doctors cry for help as COVID deaths spike</td>\n",
       "      <td>https://www.reuters.com/world/europe/you-cant-clone-us-polish-doctors-cry-help-covid-deaths-spike-2021-04-16/?utm_source=reddit.com</td>\n",
       "      <td>When the pandemic began last year, Kinga Szlachcic-Wyroba, an anaesthesiologist in the Stefan Zeromski Specialist Hospital in Krakow, Poland, had to manage one COVID-19 patient and 10 others in intensive care with three other doctors.\\n\\nNow the third wave has hit Poland and the number of COVID-19 patients in intensive care stands at 17, with just four non-COVID sufferers. Around 80% of the CO...</td>\n",
       "    </tr>\n",
       "  </tbody>\n",
       "</table>\n",
       "</div>"
      ],
      "text/plain": [
       "     subreddit  \\\n",
       "14   worldnews   \n",
       "106  worldnews   \n",
       "81   worldnews   \n",
       "873  worldnews   \n",
       "730  worldnews   \n",
       "\n",
       "                                                                            title  \\\n",
       "14   'Out of control' fire breaks out in Cape Town's Table Mountain National Park   \n",
       "106  'Out of control' fire breaks out in Cape Town's Table Mountain National Park   \n",
       "81   'Out of control' fire breaks out in Cape Town's Table Mountain National Park   \n",
       "873       'You can't clone us': Polish doctors cry for help as COVID deaths spike   \n",
       "730       'You can't clone us': Polish doctors cry for help as COVID deaths spike   \n",
       "\n",
       "                                                                                                                                     url  \\\n",
       "14                                            https://www.cnn.com/2021/04/18/africa/table-mountain-south-africa-fire-intl-afr/index.html   \n",
       "106                                       https://edition.cnn.com/2021/04/18/africa/table-mountain-south-africa-fire-intl-afr/index.html   \n",
       "81                                        https://edition.cnn.com/2021/04/18/africa/table-mountain-south-africa-fire-intl-afr/index.html   \n",
       "873                        https://www.reuters.com/world/europe/you-cant-clone-us-polish-doctors-cry-help-covid-deaths-spike-2021-04-16/   \n",
       "730  https://www.reuters.com/world/europe/you-cant-clone-us-polish-doctors-cry-help-covid-deaths-spike-2021-04-16/?utm_source=reddit.com   \n",
       "\n",
       "                                                                                                                                                                                                                                                                                                                                                                                                        article_text  \n",
       "14   (CNN) An \"out of control\" fire has broken out in Cape Town's Table Mountain National Park on Sunday, according to South African officials, prompting the evacuation of hikers from the city's most famous landmark.\\n\\nMore than 120 firefighters are battling the massive blaze, and four helicopters have been deployed to help with the efforts, according to a media release shared by a Twitter account...  \n",
       "106  (CNN) An \"out of control\" fire has broken out in Cape Town's Table Mountain National Park on Sunday, according to South African officials, prompting the evacuation of hikers from the city's most famous landmark.\\n\\nMore than 120 firefighters are battling the massive blaze, and four helicopters have been deployed to help with the efforts, according to a media release shared by a Twitter account...  \n",
       "81   (CNN) An \"out of control\" fire has broken out in Cape Town's Table Mountain National Park on Sunday, according to South African officials, prompting the evacuation of hikers from the city's most famous landmark.\\n\\nMore than 120 firefighters are battling the massive blaze, and four helicopters have been deployed to help with the efforts, according to a media release shared by a Twitter account...  \n",
       "873  When the pandemic began last year, Kinga Szlachcic-Wyroba, an anaesthesiologist in the Stefan Zeromski Specialist Hospital in Krakow, Poland, had to manage one COVID-19 patient and 10 others in intensive care with three other doctors.\\n\\nNow the third wave has hit Poland and the number of COVID-19 patients in intensive care stands at 17, with just four non-COVID sufferers. Around 80% of the CO...  \n",
       "730  When the pandemic began last year, Kinga Szlachcic-Wyroba, an anaesthesiologist in the Stefan Zeromski Specialist Hospital in Krakow, Poland, had to manage one COVID-19 patient and 10 others in intensive care with three other doctors.\\n\\nNow the third wave has hit Poland and the number of COVID-19 patients in intensive care stands at 17, with just four non-COVID sufferers. Around 80% of the CO...  "
      ]
     },
     "execution_count": 10,
     "metadata": {},
     "output_type": "execute_result"
    }
   ],
   "source": [
    "# Mask the dataframe to identify duplicate results\n",
    "\n",
    "world_news.full_df[world_news.full_df.title.duplicated(keep=False)].sort_values(by='title').head(5)"
   ]
  },
  {
   "cell_type": "code",
   "execution_count": 11,
   "metadata": {},
   "outputs": [],
   "source": [
    "# Call the method to remove duplicate results by the title column.\n",
    "\n",
    "world_news.remove_duplicates()"
   ]
  },
  {
   "cell_type": "code",
   "execution_count": 12,
   "metadata": {},
   "outputs": [
    {
     "data": {
      "text/html": [
       "<div>\n",
       "<style scoped>\n",
       "    .dataframe tbody tr th:only-of-type {\n",
       "        vertical-align: middle;\n",
       "    }\n",
       "\n",
       "    .dataframe tbody tr th {\n",
       "        vertical-align: top;\n",
       "    }\n",
       "\n",
       "    .dataframe thead th {\n",
       "        text-align: right;\n",
       "    }\n",
       "</style>\n",
       "<table border=\"1\" class=\"dataframe\">\n",
       "  <thead>\n",
       "    <tr style=\"text-align: right;\">\n",
       "      <th></th>\n",
       "      <th>subreddit</th>\n",
       "      <th>title</th>\n",
       "      <th>url</th>\n",
       "      <th>article_text</th>\n",
       "    </tr>\n",
       "  </thead>\n",
       "  <tbody>\n",
       "  </tbody>\n",
       "</table>\n",
       "</div>"
      ],
      "text/plain": [
       "Empty DataFrame\n",
       "Columns: [subreddit, title, url, article_text]\n",
       "Index: []"
      ]
     },
     "execution_count": 12,
     "metadata": {},
     "output_type": "execute_result"
    }
   ],
   "source": [
    "# Check for duplicate entries once again\n",
    "\n",
    "world_news.full_df[world_news.full_df.title.duplicated(keep=False)].sort_values(by='title')"
   ]
  },
  {
   "cell_type": "code",
   "execution_count": 13,
   "metadata": {},
   "outputs": [
    {
     "name": "stdout",
     "output_type": "stream",
     "text": [
      "<class 'pandas.core.frame.DataFrame'>\n",
      "RangeIndex: 1127 entries, 0 to 1126\n",
      "Data columns (total 4 columns):\n",
      " #   Column        Non-Null Count  Dtype \n",
      "---  ------        --------------  ----- \n",
      " 0   subreddit     1127 non-null   object\n",
      " 1   title         1127 non-null   object\n",
      " 2   url           1127 non-null   object\n",
      " 3   article_text  1078 non-null   object\n",
      "dtypes: object(4)\n",
      "memory usage: 35.3+ KB\n"
     ]
    }
   ],
   "source": [
    "# Check for null values\n",
    "\n",
    "world_news.full_df.info()"
   ]
  },
  {
   "cell_type": "code",
   "execution_count": 14,
   "metadata": {},
   "outputs": [],
   "source": [
    "# Remove null values\n",
    "\n",
    "world_news.full_df.dropna(inplace=True)"
   ]
  },
  {
   "cell_type": "markdown",
   "metadata": {},
   "source": [
    "Next we will check if there are any errors in the article text which has been pulled with newspaper3. We also do not want these erroneous data to affect our model.  \n",
    "\n",
    "To achieve this, we have created a method `sort_length` that creates a new column `length` which counts the number of characters in `article_text` and sorts the DataFrame according to the length in ascending order.  \n",
    "\n",
    "This method also creates a new column `num_words` which counts the number of words in `article_text`.\n",
    "\n",
    "This is based on the assumption that there will be more erroneous text with a low number of characters in the news article."
   ]
  },
  {
   "cell_type": "code",
   "execution_count": 15,
   "metadata": {},
   "outputs": [],
   "source": [
    "# Call the method to sort the dataframe by article_text length\n",
    "\n",
    "world_news.sort_length()"
   ]
  },
  {
   "cell_type": "code",
   "execution_count": 16,
   "metadata": {},
   "outputs": [
    {
     "data": {
      "text/plain": [
       "count     1078.000000\n",
       "mean      3585.028757\n",
       "std       3064.539678\n",
       "min         51.000000\n",
       "25%       1687.250000\n",
       "50%       2857.500000\n",
       "75%       4617.000000\n",
       "max      35888.000000\n",
       "Name: article_text_length, dtype: float64"
      ]
     },
     "execution_count": 16,
     "metadata": {},
     "output_type": "execute_result"
    }
   ],
   "source": [
    "# Examine the statistics of article_texts\n",
    "\n",
    "world_news.full_df.article_text_length.describe()"
   ]
  },
  {
   "cell_type": "code",
   "execution_count": 17,
   "metadata": {},
   "outputs": [
    {
     "data": {
      "text/plain": [
       "520.489079359782"
      ]
     },
     "execution_count": 17,
     "metadata": {},
     "output_type": "execute_result"
    }
   ],
   "source": [
    "# Calculate the value which is 1 std from the mean, which we will use to identify \"short\" articles.\n",
    "\n",
    "world_news.full_df.article_text_length.mean() - world_news.full_df.article_text_length.std()"
   ]
  },
  {
   "cell_type": "markdown",
   "metadata": {},
   "source": [
    "Given these statistics, we will take anything with less characters than 1 standard deviation from the mean as articles which are too short. This works out to be any article with less than 520 characters."
   ]
  },
  {
   "cell_type": "code",
   "execution_count": 18,
   "metadata": {},
   "outputs": [
    {
     "data": {
      "text/plain": [
       "112                                                                                                                                                                                   Could not find the requested document in the cache.\n",
       "419                                                                                                                                                                  Some of the birds that call Vedanthangal home. Photo: Arun and Shyam\n",
       "192                                                                                                                                                              The Lamu seaport in Kenya will open for business in June. Photo: Twitter\n",
       "331                                                                                                                                                     5,000 character limit. Use the arrows to translate more.\\n\\nDone\\n\\nPrevious Next\n",
       "115                                                                                                                                               Parkes Building in Jordan, where residents have been sent to quarantine. Photo: May Tse\n",
       "425                                                                                                                                           A Taiwanese fighter jet shadows a PLA bomber over the Taiwan Strait in 2020. Photo: Handout\n",
       "749                                                                                                                                         The US is planning to pull out all of its troops from Afghanistan by September 11. Photo: AFP\n",
       "386                                                                                                                                    A woman is injected with a dose of the Sinovac Covid-19 vaccine in Santiago, Chile. File photo: AP\n",
       "1080                                                                                                                                Cuba’s Lada cars: An icon of the country’s Soviet legacy and point of stubborn pride for their owners\n",
       "496                                                                                                                                 Chinese foreign vice-minister Kong Xuanyou visited Thimphu, the capital of Bhutan, in 2018. Photo: AP\n",
       "950                                                                                                                       A dance troupe performs in front of a new naval supply vessel, causing controversy in Australia. Photo: Handout\n",
       "662                                                                                                                The 3-metre unmanned vessel was found near Yancheng in the Yellow Sea, according to the state broadcaster. Photo: CCTV\n",
       "710                                                                                                               A day of horror in Iran, a year of grief in academia: Canadians reflect on the brilliant minds lost in 2020 plane crash\n",
       "1036                                                                                                            Protecting China’s regime was the focus of the public security ministry’s work between 2013 and 2020, it said. Photo: AFP\n",
       "702                                                                                                       \"We will struggle, we will have to look forward to see how we can do it, we will have to see what shape we can do it,\" he said.\n",
       "184                                                                                     This site uses cookies - read more here . By continuing to use our website without changing the settings, you are agreeing to our use of cookies.\n",
       "962                                                                                     President Luis Arce, who has been in power since November, said that \"our government will not cover up any corruption, no matter who commits it\".\n",
       "242                                                                                    Emails reveal disturbing conversations between FDA employees and a tissue procurement company as they collaborate to buy and sell aborted fetuses.\n",
       "1033                                                                               Google Earth latest feature, Timelapse, lets users see how 40 years of climate change have impacted places all over the world.\\n\\nSource: CNN Business\n",
       "1018                                                                                 China is using disruptive technologies to provoke other nations into starting a conflict, according to India’s General Bipin Rawat. Photo: Bloomberg\n",
       "76                                                                              A World War Two-era aircraft taking part in an airshow in Cocoa Beach, Florida, had to make an emergency landing in the ocean, to the shock of onlookers.\n",
       "92                                                                             At least five people were shot dead as police opened fire at workers demanding a pay rise at a China-backed power plant in Bangladesh. File photo: EPA-EFE\n",
       "366                                                                           Prime Minister of Japan Yoshihide Suga and US President Joe Biden during a joint news conference at the White House in Washington on Friday. Photo: EPA-EFE\n",
       "391                                                          China and the US are increasingly using cyber operations for intelligence collection, which could have dangerous consequences, according to a new study. Photo: Shutterstock\n",
       "113                                                    A homeless man is seen lying on the ground in Barcelona on Friday. Spain is one of the economies most vulnerable to long-term scarring from the pandemic, observers say. Photo: AP\n",
       "903                                                    \"We have seen that the member is in great physical shape, but I think members should be reminded to be careful and control the camera,\" she said in French, according to CTV News.\n",
       "106                                               Today’s Headlines\\n\\nThe most important news stories of the day, curated by Post editors and delivered every morning.\\n\\nBy signing up you agree to our Terms of Use and Privacy Policy\n",
       "759                                                 Please click on the link below to read the entire story.\\n\\nhttps://link.theepochtimes.com/mkt_app/mike-lindell-free-clean-speech-social-media-site-set-to-launch-monday_3777835.html\n",
       "864                                                 It's ironic that China's economic boom has been announced just as its leader wrestles with the problem of climate change - which has been caused by economic growth over the decades.\n",
       "30                                       The rover will also be snapping away from a distance of about 65m. It will be using its zoom cameras to try to get some close-ups of the action. With luck we should also get to see some video.\n",
       "824                            Turned away from the US, the six men were sent to Cuba. They soon found their way to the UK, where there was a shortage of sailors as many British sailors were enlisted in the army during World War One.\n",
       "424                        Please click on the link below to read the entire story.\\n\\nhttps://link.theepochtimes.com/mkt_app/chicago-police-union-president-calls-shooting-of-adam-toledo-justified-officers-actions-heroic_3779810.html\n",
       "930                       \"About four or five thousand are in shelters. But the problem is that many of the shelters are schools and because they are in the tropics there is a lot of ventilation, so the dust can easily come through.\"\n",
       "457                    Why did this happen?\\n\\nPlease make sure your browser supports JavaScript and cookies and that you are not blocking them from loading. For more information you can review our Terms of Service and Cookie Policy.\n",
       "347                    Why did this happen?\\n\\nPlease make sure your browser supports JavaScript and cookies and that you are not blocking them from loading. For more information you can review our Terms of Service and Cookie Policy.\n",
       "485                    Why did this happen?\\n\\nPlease make sure your browser supports JavaScript and cookies and that you are not blocking them from loading. For more information you can review our Terms of Service and Cookie Policy.\n",
       "703                    Why did this happen?\\n\\nPlease make sure your browser supports JavaScript and cookies and that you are not blocking them from loading. For more information you can review our Terms of Service and Cookie Policy.\n",
       "131                    Why did this happen?\\n\\nPlease make sure your browser supports JavaScript and cookies and that you are not blocking them from loading. For more information you can review our Terms of Service and Cookie Policy.\n",
       "1011                   Why did this happen?\\n\\nPlease make sure your browser supports JavaScript and cookies and that you are not blocking them from loading. For more information you can review our Terms of Service and Cookie Policy.\n",
       "466                    Why did this happen?\\n\\nPlease make sure your browser supports JavaScript and cookies and that you are not blocking them from loading. For more information you can review our Terms of Service and Cookie Policy.\n",
       "874                    Why did this happen?\\n\\nPlease make sure your browser supports JavaScript and cookies and that you are not blocking them from loading. For more information you can review our Terms of Service and Cookie Policy.\n",
       "803                    Why did this happen?\\n\\nPlease make sure your browser supports JavaScript and cookies and that you are not blocking them from loading. For more information you can review our Terms of Service and Cookie Policy.\n",
       "248                    Why did this happen?\\n\\nPlease make sure your browser supports JavaScript and cookies and that you are not blocking them from loading. For more information you can review our Terms of Service and Cookie Policy.\n",
       "72                Mr Mahoney said he assumed she was still in the care of the ambulance crew at this point, so was shocked when he received another call from the ambulance service later to say \"we are on our way to pick your mum up\".\n",
       "582             \"If they can induce fear in you, that's the cheapest way to control you and the most effective way and they know it. The only way to defeat the way of intimidation is to face up to fear and don't let it frighten you.\"\n",
       "800             \"If they can induce fear in you, that's the cheapest way to control you and the most effective way and they know it. The only way to defeat the way of intimidation is to face up to fear and don't let it frighten you.\"\n",
       "807             \"If they can induce fear in you, that's the cheapest way to control you and the most effective way and they know it. The only way to defeat the way of intimidation is to face up to fear and don't let it frighten you.\"\n",
       "1023           A coroner found her cries for help were ignored by police at the station. She should not have have been arrested in the first place, the coroner said, noting that \"unconscious bias\" led to her being taken into custody.\n",
       "663            \"I believe they are very addictive and far too accessible to young children. I think warning labels, similar to smoking, should be made to illustrate the potential dangers of the ingredients in energy drink,\" he added.\n",
       "996     Obama Debunks COVID Vaccine Fears With Shaq and Barkley\\n\\n‘FORGET WHAT HAPPENED BACK IN THE DAY’\\n\\nThe former president directly addressed vaccine hesitancy in the Black community and the legacy of the Tuskegee experiments.\n",
       "Name: article_text, dtype: object"
      ]
     },
     "execution_count": 18,
     "metadata": {},
     "output_type": "execute_result"
    }
   ],
   "source": [
    "# Check the entries with shorter article lengths\n",
    "\n",
    "world_news.full_df.article_text[world_news.full_df.article_text_length < 520].head(50)"
   ]
  },
  {
   "cell_type": "markdown",
   "metadata": {},
   "source": [
    "Looking at the 50 shortest article texts, we can see that there are many which could not be extracted properly, and some which appear to be photo captions.  \n",
    "\n",
    "Further, we identified other news articles that may be duplicates.  \n",
    "\n",
    "Hence we will drop the duplicates under `article_text` and drop those with less than 520 characters.\n"
   ]
  },
  {
   "cell_type": "code",
   "execution_count": 19,
   "metadata": {},
   "outputs": [],
   "source": [
    "# Remove duplicates by article_text column\n",
    "\n",
    "world_news.remove_duplicates('article_text')"
   ]
  },
  {
   "cell_type": "code",
   "execution_count": 20,
   "metadata": {
    "scrolled": false
   },
   "outputs": [],
   "source": [
    "# Remove short articles with less than 520 characters\n",
    "\n",
    "world_news.full_df = world_news.full_df[world_news.full_df.article_text_length > 520]"
   ]
  },
  {
   "cell_type": "markdown",
   "metadata": {},
   "source": [
    "We will also create two new columns for `title_length` and `title_num_words`."
   ]
  },
  {
   "cell_type": "code",
   "execution_count": 21,
   "metadata": {},
   "outputs": [],
   "source": [
    "# Call the method to create the columns\n",
    "\n",
    "world_news.sort_length('title')"
   ]
  },
  {
   "cell_type": "code",
   "execution_count": 22,
   "metadata": {},
   "outputs": [
    {
     "data": {
      "text/html": [
       "<div>\n",
       "<style scoped>\n",
       "    .dataframe tbody tr th:only-of-type {\n",
       "        vertical-align: middle;\n",
       "    }\n",
       "\n",
       "    .dataframe tbody tr th {\n",
       "        vertical-align: top;\n",
       "    }\n",
       "\n",
       "    .dataframe thead th {\n",
       "        text-align: right;\n",
       "    }\n",
       "</style>\n",
       "<table border=\"1\" class=\"dataframe\">\n",
       "  <thead>\n",
       "    <tr style=\"text-align: right;\">\n",
       "      <th></th>\n",
       "      <th>subreddit</th>\n",
       "      <th>title</th>\n",
       "      <th>url</th>\n",
       "      <th>article_text</th>\n",
       "      <th>article_text_num_words</th>\n",
       "      <th>article_text_length</th>\n",
       "      <th>title_num_words</th>\n",
       "      <th>title_length</th>\n",
       "    </tr>\n",
       "  </thead>\n",
       "  <tbody>\n",
       "    <tr>\n",
       "      <th>125</th>\n",
       "      <td>worldnews</td>\n",
       "      <td>Please help against Russia</td>\n",
       "      <td>https://www.ruetir.com/2021/04/17/czech-republic-russia-involved-in-deadly-explosion-expel-diplomats/</td>\n",
       "      <td>According to the Czech Republic, the Russian secret service GRU was involved in a deadly explosion in an ammunition depot in the Czech town of Vrbetice in 2014. The Czech security services have reached this conclusion, Prime Minister Andrej Babis and Minister of Foreign Affairs Jan Hamacek announced on Saturday.\\n\\nIn response to the investigation results, the country has decided to expel 18 R...</td>\n",
       "      <td>156</td>\n",
       "      <td>1007</td>\n",
       "      <td>4</td>\n",
       "      <td>26</td>\n",
       "    </tr>\n",
       "    <tr>\n",
       "      <th>90</th>\n",
       "      <td>worldnews</td>\n",
       "      <td>Arabs attack Jews in Ramla</td>\n",
       "      <td>https://www.israelnationalnews.com/News/News.aspx/304587</td>\n",
       "      <td>A Jew was lightly injured and two minors were sprayed with pepper spray in a brawl with Arabs in Ramla on Sunday evening.\\n\\nThe man was taken to Assaf Harofeh Hospital for treatment.\\n\\nPolice are investigating the circumstances of the incident.\\n\\nElsewhere, hundreds of Arabs rioted in Jerusalem Sunday night, with disturbances reported around the Old City's Damascus Gate.\\n\\nArab rioters cla...</td>\n",
       "      <td>98</td>\n",
       "      <td>636</td>\n",
       "      <td>5</td>\n",
       "      <td>26</td>\n",
       "    </tr>\n",
       "    <tr>\n",
       "      <th>910</th>\n",
       "      <td>worldnews</td>\n",
       "      <td>A Gun Bill | No Police State</td>\n",
       "      <td>https://nopolicestate.net/2007/12/21/a-gun-bill-3/</td>\n",
       "      <td>There was a headline in the news yesterday on the Yahoo homepage that read “Gun bill inspired by “A place where gun violence occurred”, and the article went on to say something about the mentally ill will be targeted and asked for documentation when they go to buy guns. Hugh? Is not the problem with guns that guns are sold everywhere to anyone at all, and not the people.\\n\\nAnd there was a sal...</td>\n",
       "      <td>1328</td>\n",
       "      <td>7770</td>\n",
       "      <td>7</td>\n",
       "      <td>28</td>\n",
       "    </tr>\n",
       "    <tr>\n",
       "      <th>736</th>\n",
       "      <td>worldnews</td>\n",
       "      <td>University of Cape Town on fire</td>\n",
       "      <td>https://www.news24.com/amp/news24/southafrica/news/uct-evacuates-students-as-runaway-veldfire-rages-on-20210418</td>\n",
       "      <td>A City of Cape Town firefighter sustained burn wounds while battling a blaze at Rhodes Memorial.\\n\\nTable Mountain National Park (TMNP) said an initial investigation showed a vagrant's fire may have sparked the blaze.\\n\\nUCT has evacuated its students and announced it was cancelling campus activity on Monday and Tuesday.\\n\\nA firefighter sustained burn wounds while battling the massive fire th...</td>\n",
       "      <td>750</td>\n",
       "      <td>4565</td>\n",
       "      <td>6</td>\n",
       "      <td>31</td>\n",
       "    </tr>\n",
       "    <tr>\n",
       "      <th>238</th>\n",
       "      <td>worldnews</td>\n",
       "      <td>Israel ends outdoor mask mandate</td>\n",
       "      <td>https://nypost.com/2021/04/18/israel-ends-outdoor-mask-mandate/</td>\n",
       "      <td>Israel ended its outdoor mask mandate Sunday, now that about 80 percent of its adult population has received both doses of Pfizer’s COVID-19 vaccine, reports said.\\n\\n“Being without a mask for the first time in a long time feels weird. But it’s a very good weird,” Amitai Hallgarten, 19, told Reuters.\\n\\n“If I need to be masked indoors to finish with this, I’ll do everything I can.”\\n\\nAt the s...</td>\n",
       "      <td>277</td>\n",
       "      <td>1682</td>\n",
       "      <td>5</td>\n",
       "      <td>32</td>\n",
       "    </tr>\n",
       "  </tbody>\n",
       "</table>\n",
       "</div>"
      ],
      "text/plain": [
       "     subreddit                             title  \\\n",
       "125  worldnews        Please help against Russia   \n",
       "90   worldnews        Arabs attack Jews in Ramla   \n",
       "910  worldnews      A Gun Bill | No Police State   \n",
       "736  worldnews   University of Cape Town on fire   \n",
       "238  worldnews  Israel ends outdoor mask mandate   \n",
       "\n",
       "                                                                                                                 url  \\\n",
       "125            https://www.ruetir.com/2021/04/17/czech-republic-russia-involved-in-deadly-explosion-expel-diplomats/   \n",
       "90                                                          https://www.israelnationalnews.com/News/News.aspx/304587   \n",
       "910                                                               https://nopolicestate.net/2007/12/21/a-gun-bill-3/   \n",
       "736  https://www.news24.com/amp/news24/southafrica/news/uct-evacuates-students-as-runaway-veldfire-rages-on-20210418   \n",
       "238                                                  https://nypost.com/2021/04/18/israel-ends-outdoor-mask-mandate/   \n",
       "\n",
       "                                                                                                                                                                                                                                                                                                                                                                                                        article_text  \\\n",
       "125  According to the Czech Republic, the Russian secret service GRU was involved in a deadly explosion in an ammunition depot in the Czech town of Vrbetice in 2014. The Czech security services have reached this conclusion, Prime Minister Andrej Babis and Minister of Foreign Affairs Jan Hamacek announced on Saturday.\\n\\nIn response to the investigation results, the country has decided to expel 18 R...   \n",
       "90   A Jew was lightly injured and two minors were sprayed with pepper spray in a brawl with Arabs in Ramla on Sunday evening.\\n\\nThe man was taken to Assaf Harofeh Hospital for treatment.\\n\\nPolice are investigating the circumstances of the incident.\\n\\nElsewhere, hundreds of Arabs rioted in Jerusalem Sunday night, with disturbances reported around the Old City's Damascus Gate.\\n\\nArab rioters cla...   \n",
       "910  There was a headline in the news yesterday on the Yahoo homepage that read “Gun bill inspired by “A place where gun violence occurred”, and the article went on to say something about the mentally ill will be targeted and asked for documentation when they go to buy guns. Hugh? Is not the problem with guns that guns are sold everywhere to anyone at all, and not the people.\\n\\nAnd there was a sal...   \n",
       "736  A City of Cape Town firefighter sustained burn wounds while battling a blaze at Rhodes Memorial.\\n\\nTable Mountain National Park (TMNP) said an initial investigation showed a vagrant's fire may have sparked the blaze.\\n\\nUCT has evacuated its students and announced it was cancelling campus activity on Monday and Tuesday.\\n\\nA firefighter sustained burn wounds while battling the massive fire th...   \n",
       "238  Israel ended its outdoor mask mandate Sunday, now that about 80 percent of its adult population has received both doses of Pfizer’s COVID-19 vaccine, reports said.\\n\\n“Being without a mask for the first time in a long time feels weird. But it’s a very good weird,” Amitai Hallgarten, 19, told Reuters.\\n\\n“If I need to be masked indoors to finish with this, I’ll do everything I can.”\\n\\nAt the s...   \n",
       "\n",
       "     article_text_num_words  article_text_length  title_num_words  \\\n",
       "125                     156                 1007                4   \n",
       "90                       98                  636                5   \n",
       "910                    1328                 7770                7   \n",
       "736                     750                 4565                6   \n",
       "238                     277                 1682                5   \n",
       "\n",
       "     title_length  \n",
       "125            26  \n",
       "90             26  \n",
       "910            28  \n",
       "736            31  \n",
       "238            32  "
      ]
     },
     "execution_count": 22,
     "metadata": {},
     "output_type": "execute_result"
    }
   ],
   "source": [
    "# Check the first 5 entries in the DataFrame\n",
    "\n",
    "world_news.full_df.head()"
   ]
  },
  {
   "cell_type": "markdown",
   "metadata": {},
   "source": [
    "As we are trying to flag out Satire news among real headlines, we will convert `worldnews` under `subreddit` to 0. "
   ]
  },
  {
   "cell_type": "code",
   "execution_count": 23,
   "metadata": {},
   "outputs": [],
   "source": [
    "world_news.full_df.subreddit = 0"
   ]
  },
  {
   "cell_type": "code",
   "execution_count": 25,
   "metadata": {},
   "outputs": [],
   "source": [
    "# Save the cleaned DataFrame\n",
    "\n",
    "world_news.full_df.to_csv('../data/worldnews/worldnews_clean.csv', index=False)"
   ]
  },
  {
   "cell_type": "markdown",
   "metadata": {},
   "source": [
    "## Cleaning Subreddit 02 - The Onion  \n",
    "\n",
    "We will repeat the cleaning process for the second subreddit by removing duplicates, nulls, and rows with `length` more than 1 standard deviation less than the mean."
   ]
  },
  {
   "cell_type": "code",
   "execution_count": 26,
   "metadata": {},
   "outputs": [
    {
     "data": {
      "text/html": [
       "<div>\n",
       "<style scoped>\n",
       "    .dataframe tbody tr th:only-of-type {\n",
       "        vertical-align: middle;\n",
       "    }\n",
       "\n",
       "    .dataframe tbody tr th {\n",
       "        vertical-align: top;\n",
       "    }\n",
       "\n",
       "    .dataframe thead th {\n",
       "        text-align: right;\n",
       "    }\n",
       "</style>\n",
       "<table border=\"1\" class=\"dataframe\">\n",
       "  <thead>\n",
       "    <tr style=\"text-align: right;\">\n",
       "      <th></th>\n",
       "      <th>subreddit</th>\n",
       "      <th>title</th>\n",
       "      <th>url</th>\n",
       "      <th>article_text</th>\n",
       "    </tr>\n",
       "  </thead>\n",
       "  <tbody>\n",
       "    <tr>\n",
       "      <th>385</th>\n",
       "      <td>TheOnion</td>\n",
       "      <td>A shocking new study that asked teen boys about their sexual habits reveals that they are all having sex all the time and are really, really good at having it.</td>\n",
       "      <td>https://youtu.be/q8NDCJY5DW4</td>\n",
       "      <td>NaN</td>\n",
       "    </tr>\n",
       "    <tr>\n",
       "      <th>384</th>\n",
       "      <td>TheOnion</td>\n",
       "      <td>A shocking new study that asked teen boys about their sexual habits reveals that they are all having sex all the time and are really, really good at having it.</td>\n",
       "      <td>https://youtu.be/q8NDCJY5DW4</td>\n",
       "      <td>NaN</td>\n",
       "    </tr>\n",
       "    <tr>\n",
       "      <th>478</th>\n",
       "      <td>TheOnion</td>\n",
       "      <td>After Obama Victory, Shrieking White-Hot Sphere Of Pure Rage Early GOP Front-Runner For 2016</td>\n",
       "      <td>https://www.youtube.com/watch?v=jjonGtrCyVE</td>\n",
       "      <td>NaN</td>\n",
       "    </tr>\n",
       "    <tr>\n",
       "      <th>270</th>\n",
       "      <td>TheOnion</td>\n",
       "      <td>After Obama Victory, Shrieking White-Hot Sphere Of Pure Rage Early GOP Front-Runner For 2016</td>\n",
       "      <td>https://www.youtube.com/watch?v=jjonGtrCyVE</td>\n",
       "      <td>NaN</td>\n",
       "    </tr>\n",
       "    <tr>\n",
       "      <th>488</th>\n",
       "      <td>TheOnion</td>\n",
       "      <td>After Obama Victory, Shrieking White-Hot Sphere Of Pure Rage Early GOP Front-Runner For 2016</td>\n",
       "      <td>https://www.youtube.com/watch?v=jjonGtrCyVE</td>\n",
       "      <td>NaN</td>\n",
       "    </tr>\n",
       "    <tr>\n",
       "      <th>...</th>\n",
       "      <td>...</td>\n",
       "      <td>...</td>\n",
       "      <td>...</td>\n",
       "      <td>...</td>\n",
       "    </tr>\n",
       "    <tr>\n",
       "      <th>868</th>\n",
       "      <td>TheOnion</td>\n",
       "      <td>‘Damn You’ Shouts Contact Tracer Losing Track Of Coronavirus After It Catches Hold Of Helicopter’s Ladder</td>\n",
       "      <td>http://www.theonion.com/damn-you-shouts-contact-tracer-losing-track-of-corona-1844674700</td>\n",
       "      <td>LOS ANGELES— Shaking his first from the roof of an office building, contact tracer Calvin Rosen reportedly shouted “Damn you” Friday after losing track of the coronavirus after it caught hold of a passing helicopter’s ladder. “Son of a bitch, I’ll track you down one day!” said Rosen, who threw his mask to the ground in anger and pulled out a walkie-talkie while watching the virus he thought he...</td>\n",
       "    </tr>\n",
       "    <tr>\n",
       "      <th>872</th>\n",
       "      <td>TheOnion</td>\n",
       "      <td>‘Damn You’ Shouts Contact Tracer Losing Track Of Coronavirus After It Catches Hold Of Helicopter’s Ladder</td>\n",
       "      <td>https://theonion.com/1844674700</td>\n",
       "      <td>LOS ANGELES— Shaking his first from the roof of an office building, contact tracer Calvin Rosen reportedly shouted “Damn you” Friday after losing track of the coronavirus after it caught hold of a passing helicopter’s ladder. “Son of a bitch, I’ll track you down one day!” said Rosen, who threw his mask to the ground in anger and pulled out a walkie-talkie while watching the virus he thought he...</td>\n",
       "    </tr>\n",
       "    <tr>\n",
       "      <th>68</th>\n",
       "      <td>TheOnion</td>\n",
       "      <td>‘No Way To Prevent This,’ Says Only Nation Where This Regularly Happens</td>\n",
       "      <td>https://www.theonion.com/no-way-to-prevent-this-says-only-nation-where-this-r-1846494525</td>\n",
       "      <td>ATLANTA—In the hours following a violent rampage in Georgia in which a lone attacker killed eight individuals and injured one other, citizens living in the only country where this kind of mass killing routinely occurs reportedly concluded Wednesday that there was no way to prevent the massacre from taking place. “This was a terrible tragedy, but sometimes these things just happen and there’s n...</td>\n",
       "    </tr>\n",
       "    <tr>\n",
       "      <th>673</th>\n",
       "      <td>TheOnion</td>\n",
       "      <td>‘No Way To Prevent This,’ Says Only Nation Where This Regularly Happens</td>\n",
       "      <td>https://www.theonion.com/no-way-to-prevent-this-says-only-nation-where-this-r-1841942413</td>\n",
       "      <td>MILWAUKEE—In the hours following a violent rampage in Wisconsin in which a lone attacker killed five individuals, including himself, citizens living in the only country where this kind of mass killing routinely occurs reportedly concluded Wednesday that there was no way to prevent the massacre from taking place. “This was a terrible tragedy, but sometimes these things just happen and there’s n...</td>\n",
       "    </tr>\n",
       "    <tr>\n",
       "      <th>4</th>\n",
       "      <td>TheOnion</td>\n",
       "      <td>‘No Way To Prevent This,’ Says Only Nation Where This Regularly Happens</td>\n",
       "      <td>https://www.theonion.com/no-way-to-prevent-this-says-only-nation-where-this-r-1846698258</td>\n",
       "      <td>INDIANAPOLIS—In the hours following a violent rampage in Indiana in which a lone attacker killed eight individuals and injured several others, citizens living in the only country where this kind of mass killing routinely occurs reportedly concluded Friday that there was no way to prevent the massacre from taking place. “This was a terrible tragedy, but sometimes these things just happen and th...</td>\n",
       "    </tr>\n",
       "  </tbody>\n",
       "</table>\n",
       "<p>175 rows × 4 columns</p>\n",
       "</div>"
      ],
      "text/plain": [
       "    subreddit  \\\n",
       "385  TheOnion   \n",
       "384  TheOnion   \n",
       "478  TheOnion   \n",
       "270  TheOnion   \n",
       "488  TheOnion   \n",
       "..        ...   \n",
       "868  TheOnion   \n",
       "872  TheOnion   \n",
       "68   TheOnion   \n",
       "673  TheOnion   \n",
       "4    TheOnion   \n",
       "\n",
       "                                                                                                                                                               title  \\\n",
       "385  A shocking new study that asked teen boys about their sexual habits reveals that they are all having sex all the time and are really, really good at having it.   \n",
       "384  A shocking new study that asked teen boys about their sexual habits reveals that they are all having sex all the time and are really, really good at having it.   \n",
       "478                                                                     After Obama Victory, Shrieking White-Hot Sphere Of Pure Rage Early GOP Front-Runner For 2016   \n",
       "270                                                                     After Obama Victory, Shrieking White-Hot Sphere Of Pure Rage Early GOP Front-Runner For 2016   \n",
       "488                                                                     After Obama Victory, Shrieking White-Hot Sphere Of Pure Rage Early GOP Front-Runner For 2016   \n",
       "..                                                                                                                                                               ...   \n",
       "868                                                        ‘Damn You’ Shouts Contact Tracer Losing Track Of Coronavirus After It Catches Hold Of Helicopter’s Ladder   \n",
       "872                                                        ‘Damn You’ Shouts Contact Tracer Losing Track Of Coronavirus After It Catches Hold Of Helicopter’s Ladder   \n",
       "68                                                                                           ‘No Way To Prevent This,’ Says Only Nation Where This Regularly Happens   \n",
       "673                                                                                          ‘No Way To Prevent This,’ Says Only Nation Where This Regularly Happens   \n",
       "4                                                                                            ‘No Way To Prevent This,’ Says Only Nation Where This Regularly Happens   \n",
       "\n",
       "                                                                                          url  \\\n",
       "385                                                              https://youtu.be/q8NDCJY5DW4   \n",
       "384                                                              https://youtu.be/q8NDCJY5DW4   \n",
       "478                                               https://www.youtube.com/watch?v=jjonGtrCyVE   \n",
       "270                                               https://www.youtube.com/watch?v=jjonGtrCyVE   \n",
       "488                                               https://www.youtube.com/watch?v=jjonGtrCyVE   \n",
       "..                                                                                        ...   \n",
       "868  http://www.theonion.com/damn-you-shouts-contact-tracer-losing-track-of-corona-1844674700   \n",
       "872                                                           https://theonion.com/1844674700   \n",
       "68   https://www.theonion.com/no-way-to-prevent-this-says-only-nation-where-this-r-1846494525   \n",
       "673  https://www.theonion.com/no-way-to-prevent-this-says-only-nation-where-this-r-1841942413   \n",
       "4    https://www.theonion.com/no-way-to-prevent-this-says-only-nation-where-this-r-1846698258   \n",
       "\n",
       "                                                                                                                                                                                                                                                                                                                                                                                                        article_text  \n",
       "385                                                                                                                                                                                                                                                                                                                                                                                                              NaN  \n",
       "384                                                                                                                                                                                                                                                                                                                                                                                                              NaN  \n",
       "478                                                                                                                                                                                                                                                                                                                                                                                                              NaN  \n",
       "270                                                                                                                                                                                                                                                                                                                                                                                                              NaN  \n",
       "488                                                                                                                                                                                                                                                                                                                                                                                                              NaN  \n",
       "..                                                                                                                                                                                                                                                                                                                                                                                                               ...  \n",
       "868  LOS ANGELES— Shaking his first from the roof of an office building, contact tracer Calvin Rosen reportedly shouted “Damn you” Friday after losing track of the coronavirus after it caught hold of a passing helicopter’s ladder. “Son of a bitch, I’ll track you down one day!” said Rosen, who threw his mask to the ground in anger and pulled out a walkie-talkie while watching the virus he thought he...  \n",
       "872  LOS ANGELES— Shaking his first from the roof of an office building, contact tracer Calvin Rosen reportedly shouted “Damn you” Friday after losing track of the coronavirus after it caught hold of a passing helicopter’s ladder. “Son of a bitch, I’ll track you down one day!” said Rosen, who threw his mask to the ground in anger and pulled out a walkie-talkie while watching the virus he thought he...  \n",
       "68   ATLANTA—In the hours following a violent rampage in Georgia in which a lone attacker killed eight individuals and injured one other, citizens living in the only country where this kind of mass killing routinely occurs reportedly concluded Wednesday that there was no way to prevent the massacre from taking place. “This was a terrible tragedy, but sometimes these things just happen and there’s n...  \n",
       "673  MILWAUKEE—In the hours following a violent rampage in Wisconsin in which a lone attacker killed five individuals, including himself, citizens living in the only country where this kind of mass killing routinely occurs reportedly concluded Wednesday that there was no way to prevent the massacre from taking place. “This was a terrible tragedy, but sometimes these things just happen and there’s n...  \n",
       "4    INDIANAPOLIS—In the hours following a violent rampage in Indiana in which a lone attacker killed eight individuals and injured several others, citizens living in the only country where this kind of mass killing routinely occurs reportedly concluded Friday that there was no way to prevent the massacre from taking place. “This was a terrible tragedy, but sometimes these things just happen and th...  \n",
       "\n",
       "[175 rows x 4 columns]"
      ]
     },
     "execution_count": 26,
     "metadata": {},
     "output_type": "execute_result"
    }
   ],
   "source": [
    "# Mask the dataframe to identify duplicate results\n",
    "\n",
    "theonion.full_df[theonion.full_df.title.duplicated(keep=False)].sort_values(by='title')"
   ]
  },
  {
   "cell_type": "code",
   "execution_count": 27,
   "metadata": {},
   "outputs": [],
   "source": [
    "# Call the method to remove duplicate results by the title column.\n",
    "\n",
    "theonion.remove_duplicates()"
   ]
  },
  {
   "cell_type": "code",
   "execution_count": 28,
   "metadata": {},
   "outputs": [
    {
     "data": {
      "text/html": [
       "<div>\n",
       "<style scoped>\n",
       "    .dataframe tbody tr th:only-of-type {\n",
       "        vertical-align: middle;\n",
       "    }\n",
       "\n",
       "    .dataframe tbody tr th {\n",
       "        vertical-align: top;\n",
       "    }\n",
       "\n",
       "    .dataframe thead th {\n",
       "        text-align: right;\n",
       "    }\n",
       "</style>\n",
       "<table border=\"1\" class=\"dataframe\">\n",
       "  <thead>\n",
       "    <tr style=\"text-align: right;\">\n",
       "      <th></th>\n",
       "      <th>subreddit</th>\n",
       "      <th>title</th>\n",
       "      <th>url</th>\n",
       "      <th>article_text</th>\n",
       "    </tr>\n",
       "  </thead>\n",
       "  <tbody>\n",
       "  </tbody>\n",
       "</table>\n",
       "</div>"
      ],
      "text/plain": [
       "Empty DataFrame\n",
       "Columns: [subreddit, title, url, article_text]\n",
       "Index: []"
      ]
     },
     "execution_count": 28,
     "metadata": {},
     "output_type": "execute_result"
    }
   ],
   "source": [
    "# Check for duplicate entries once again\n",
    "\n",
    "theonion.full_df[theonion.full_df.title.duplicated(keep=False)].sort_values(by='title')"
   ]
  },
  {
   "cell_type": "code",
   "execution_count": 29,
   "metadata": {},
   "outputs": [
    {
     "name": "stdout",
     "output_type": "stream",
     "text": [
      "<class 'pandas.core.frame.DataFrame'>\n",
      "RangeIndex: 1123 entries, 0 to 1122\n",
      "Data columns (total 4 columns):\n",
      " #   Column        Non-Null Count  Dtype \n",
      "---  ------        --------------  ----- \n",
      " 0   subreddit     1123 non-null   object\n",
      " 1   title         1123 non-null   object\n",
      " 2   url           1123 non-null   object\n",
      " 3   article_text  863 non-null    object\n",
      "dtypes: object(4)\n",
      "memory usage: 35.2+ KB\n"
     ]
    }
   ],
   "source": [
    "# Check for null values\n",
    "\n",
    "theonion.full_df.info()"
   ]
  },
  {
   "cell_type": "code",
   "execution_count": 30,
   "metadata": {},
   "outputs": [],
   "source": [
    "# Drop the null values\n",
    "\n",
    "theonion.full_df.dropna(inplace=True)"
   ]
  },
  {
   "cell_type": "code",
   "execution_count": 31,
   "metadata": {},
   "outputs": [],
   "source": [
    "# Call the method to sort the dataframe by article_text length\n",
    "\n",
    "theonion.sort_length()"
   ]
  },
  {
   "cell_type": "code",
   "execution_count": 32,
   "metadata": {},
   "outputs": [
    {
     "data": {
      "text/plain": [
       "count      863.000000\n",
       "mean      1395.078795\n",
       "std       1168.948631\n",
       "min         24.000000\n",
       "25%        933.500000\n",
       "50%       1147.000000\n",
       "75%       1386.500000\n",
       "max      16413.000000\n",
       "Name: article_text_length, dtype: float64"
      ]
     },
     "execution_count": 32,
     "metadata": {},
     "output_type": "execute_result"
    }
   ],
   "source": [
    "# Examine the statistics of article_texts\n",
    "\n",
    "theonion.full_df.article_text_length.describe()"
   ]
  },
  {
   "cell_type": "code",
   "execution_count": 33,
   "metadata": {},
   "outputs": [
    {
     "data": {
      "text/plain": [
       "226.13016430359335"
      ]
     },
     "execution_count": 33,
     "metadata": {},
     "output_type": "execute_result"
    }
   ],
   "source": [
    "theonion.full_df.article_text_length.mean() - theonion.full_df.article_text_length.std()"
   ]
  },
  {
   "cell_type": "code",
   "execution_count": 34,
   "metadata": {
    "scrolled": false
   },
   "outputs": [
    {
     "data": {
      "text/plain": [
       "582                                                                                                                                                                                                           The Topical\\n\\nThe Topical\n",
       "386                                                                                                                                                                                                           The Topical\\n\\nThe Topical\n",
       "998                                                                                                                                                                                                           The Topical\\n\\nThe Topical\n",
       "978                                                                                                                                                                                 Here’s a list of organizations where you can donate.\n",
       "1119                                                                                                                                                                                Here’s a list of organizations where you can donate.\n",
       "1118                                                                                                                                                                                Here’s a list of organizations where you can donate.\n",
       "1074                                                                                                                                                                   Apparently Even Fence Feels Need To Comment On Woman’s Appearance\n",
       "986                                                                                                                                                        Rwandan genocide: OMG, this takes us WAY back. Way back to the ’90s, that is!\n",
       "295                                                                                                                                                 Netflix Algorithm Suggests Viewer Who Enjoyed ‘Ozark’ Will Like Pretty Much Anything\n",
       "384                                                                                                                                I found a book the has a large collection of articles from the onion stuffed into my parent’s closet.\n",
       "1036                                                                                                                         'Cum Inside' star Jennica St. Foxx is receiving heavy criticism for using a racial slur in her latest film.\n",
       "286                                                                                                                 A recent report finds that one man is selfishly working thousands of jobs while other Americans go without even one.\n",
       "797                                                                                                               2\\n\\nWhen we drowned the old couch in waves of crimson and amber hues, we discovered in ourselves the essential truth.\n",
       "3                                                                                            President Bush has a new hobby — painting! — and he’s showing off some new watercolors of the undead Iraqi boy who lives in his nightmares.\n",
       "791                                                                                  'In The Know' Panelists discuss whether our athletes will be able to escape from the bamboo cages the Chinese government will try to imprison them…\n",
       "417                                                                                  Citing White House Pressure, Hennessy pulled the Biden ads saying \"Joe will always epitomize the smooth, original style of our world class cognac.\"\n",
       "242                                                                               Congress says that with no way to actually pay back our debts, faking a coup to eliminate financial obligations is the best plan for the U.S. economy.\n",
       "330                                                                            Socially inclusive hiphop group the Black Eyed Peas have added the wheelchair-bound rapper TruWheel to their line-up, plus more stories in the NewsBlitz.\n",
       "672                                                             2 / 8 Justice Ginsburg Throws Party While 120-Year-Old Parents Away For Weekend List slides\\n\\nJustice Ginsburg Throws Party While 120-Year-Old Parents Away For Weekend\n",
       "119                                              The French electronic music duo Daft Punk announced their breakup after a massively influential 28-year run. The Onion looks back at the top moments of Daft Punk.\\n\\n\\n\\nAdvertisement\n",
       "74                                            Jungkook\\n\\nSure, we already named Jungkook, but we just love him so much we had to do it again. And if you have a problem with that you can get the hell out of this slideshow, ugly.\\n\\n\n",
       "651                                           Aquarius | Jan. 20 to Feb. 18\\n\\nNobody said that it was going to be easy, or fun, or even practical. But then nobody really said much about your desire to take up differential calculus.\n",
       "676                                            You place your hand on your heart and sing with fervor whenever you hear the stirring opening line of the national anthem: “Around our flag we stand united / With one wish and one goal”\n",
       "171                                     Hear why these arborists believe that if the fruit’s on the ground, it’s ready to pound.\\n\\nAdvertisement\\n\\nYou can find The Topical on Apple Podcasts, Spotify, Google Podcasts, and Stitcher.\n",
       "530                              Hear why the people you thought you were closest with actually don’t feel similarly at all.\\n\\n\\n\\nAdvertisement\\n\\nYou can find The Topical on Apple Podcasts, Spotify, Google Podcasts, and Stitcher.\n",
       "863                             Sorry, this post has been removed by the moderators of r/TheOnion.\\n\\nModerators remove posts from feeds for a variety of reasons, including keeping communities safe, civil, and true to their purpose.\n",
       "312                             Aries | March 21 to April 19\\n\\nUnfortunately for your personal philosophy, it turns out the free market has yet to come up with a truly effective way to just go up to women and start talking to them.\n",
       "728                    AboutLocal Store Local Store is a third party site which is subject to its own terms of use and privacy policy.\\n\\nLocal Store is a third party site which is subject to its own terms of use and privacy policy.\n",
       "419                  On January 20, 2021, Donald Trump will leave office at the end of his presidential term, coup permitting. Here’s what President Trump hopes to accomplish over his final two months in office.\\n\\n\\n\\nAdvertisement\n",
       "185                    AboutLocal Store Local Store is a third party site which is subject to its own terms of use and privacy policy.\\n\\nLocal Store is a third party site which is subject to its own terms of use and privacy policy.\n",
       "684                    AboutLocal Store Local Store is a third party site which is subject to its own terms of use and privacy policy.\\n\\nLocal Store is a third party site which is subject to its own terms of use and privacy policy.\n",
       "568               Like, for real. We have the latest on how these two dumbasses reconnected, and you’re not going to believe it.\\n\\nAdvertisement\\n\\nYou can find The Topical on Apple Podcasts, Spotify, Google Podcasts, and Stitcher.\n",
       "951               Plus, a new presidential poll shows each candidate’s name, followed by a number, then a percentage sign. But what do they mean?\\n\\nYou can find The Topical on Apple Podcasts, Spotify, Google Podcasts, and Stitcher.\n",
       "563              Aries | March 21 to April 19\\n\\nDespite the writing being on the wall, the bridge, the subway platform, and the abandoned warehouse, you’ll still be surprised to hear about the recent rise of vandalism in your city.\n",
       "545           AboutPolitics Store Politics Store is a third party site which is subject to its own terms of use and privacy policy.\\n\\nPolitics Store is a third party site which is subject to its own terms of use and privacy policy.\n",
       "93          A task force convened to address security at the U.S. Capitol Building following the January 6 riot released a report on Monday. The Onion looks at the key takeaways from the Capitol security review.\\n\\n\\n\\nAdvertisement\n",
       "58         AboutThe Onion Store The Onion Store is a third party site which is subject to its own terms of use and privacy policy.\\n\\nThe Onion Store is a third party site which is subject to its own terms of use and privacy policy.\n",
       "902        AboutThe Onion Store The Onion Store is a third party site which is subject to its own terms of use and privacy policy.\\n\\nThe Onion Store is a third party site which is subject to its own terms of use and privacy policy.\n",
       "57         AboutThe Onion Store The Onion Store is a third party site which is subject to its own terms of use and privacy policy.\\n\\nThe Onion Store is a third party site which is subject to its own terms of use and privacy policy.\n",
       "924        AboutThe Onion Store The Onion Store is a third party site which is subject to its own terms of use and privacy policy.\\n\\nThe Onion Store is a third party site which is subject to its own terms of use and privacy policy.\n",
       "124        AboutThe Onion Store The Onion Store is a third party site which is subject to its own terms of use and privacy policy.\\n\\nThe Onion Store is a third party site which is subject to its own terms of use and privacy policy.\n",
       "320     Hear what mothers around the country are threatening to do if they do not receive a full and complete list this instant.\\n\\nAdvertisement\\n\\nYou can find The Topical on Apple Podcasts, Spotify, Google Podcasts, and Stitcher.\n",
       "735     Sagittarius | Nov. 22 to Dec. 21\\n\\nYou always wanted to die peacefully at home in your sleep, but look at it this way: You’ll be at home, all right, and the flames will spread so fast you’ll only be awake for a few seconds.\n",
       "Name: article_text, dtype: object"
      ]
     },
     "execution_count": 34,
     "metadata": {},
     "output_type": "execute_result"
    }
   ],
   "source": [
    "# Check the entries with shorter article lengths\n",
    "\n",
    "theonion.full_df.article_text[theonion.full_df.article_text_length < 226].head(50)"
   ]
  },
  {
   "cell_type": "markdown",
   "metadata": {},
   "source": [
    "This time we did not identify more duplicates, but we can see that there are many article_texts which were not extracted properly.  \n",
    "\n",
    "Hence we will drop rows with less than 226 characters in the article_text column."
   ]
  },
  {
   "cell_type": "code",
   "execution_count": 35,
   "metadata": {},
   "outputs": [],
   "source": [
    "# Remove short articles with less than 226 characters\n",
    "\n",
    "theonion.full_df = theonion.full_df[theonion.full_df.article_text_length > 226]"
   ]
  },
  {
   "cell_type": "markdown",
   "metadata": {},
   "source": [
    "We will also create two new columns for `title_length` and `title_num_words`."
   ]
  },
  {
   "cell_type": "code",
   "execution_count": 36,
   "metadata": {},
   "outputs": [],
   "source": [
    "# Call the method to create the columns\n",
    "\n",
    "theonion.sort_length('title')"
   ]
  },
  {
   "cell_type": "code",
   "execution_count": 37,
   "metadata": {
    "scrolled": true
   },
   "outputs": [
    {
     "data": {
      "text/html": [
       "<div>\n",
       "<style scoped>\n",
       "    .dataframe tbody tr th:only-of-type {\n",
       "        vertical-align: middle;\n",
       "    }\n",
       "\n",
       "    .dataframe tbody tr th {\n",
       "        vertical-align: top;\n",
       "    }\n",
       "\n",
       "    .dataframe thead th {\n",
       "        text-align: right;\n",
       "    }\n",
       "</style>\n",
       "<table border=\"1\" class=\"dataframe\">\n",
       "  <thead>\n",
       "    <tr style=\"text-align: right;\">\n",
       "      <th></th>\n",
       "      <th>subreddit</th>\n",
       "      <th>title</th>\n",
       "      <th>url</th>\n",
       "      <th>article_text</th>\n",
       "      <th>article_text_num_words</th>\n",
       "      <th>article_text_length</th>\n",
       "      <th>title_num_words</th>\n",
       "      <th>title_length</th>\n",
       "    </tr>\n",
       "  </thead>\n",
       "  <tbody>\n",
       "    <tr>\n",
       "      <th>981</th>\n",
       "      <td>TheOnion</td>\n",
       "      <td>Ask A Bee</td>\n",
       "      <td>https://www.theonion.com/ask-a-bee-1819583411</td>\n",
       "      <td>Worker Bee #7438-F87904\\n\\nAdvertisement\\n\\nDear Worker Bee #7438-F87904,\\n\\nMy husband and I split last year after 11 years of marriage. We’re still good friends, though, and we even go out for coffee once a week. Problem is, lately, he’s been seeing a new person, someone I feel is definitely not right for him. Should I say anything? I’m not jealous—I know I wasn’t right for him, either. What...</td>\n",
       "      <td>503</td>\n",
       "      <td>3661</td>\n",
       "      <td>3</td>\n",
       "      <td>9</td>\n",
       "    </tr>\n",
       "    <tr>\n",
       "      <th>152</th>\n",
       "      <td>TheOnion</td>\n",
       "      <td>Seems sensible</td>\n",
       "      <td>https://www.theonion.com/woman-quick-to-clarify-that-child-in-dating-profile-pic-1846174572</td>\n",
       "      <td>SKOKIE, IL—In an effort to ensure that potential mates wouldn’t get the wrong idea, local woman Karen Dugas told reporters Monday she was always quick to clarify that the child in her dating profile picture wasn’t actually alive anymore. “It’s such a cute snapshot of the two of us at her second birthday party that I wanted to share it, but I always make sure people know I’m totally unattached ...</td>\n",
       "      <td>191</td>\n",
       "      <td>1043</td>\n",
       "      <td>2</td>\n",
       "      <td>14</td>\n",
       "    </tr>\n",
       "    <tr>\n",
       "      <th>977</th>\n",
       "      <td>TheOnion</td>\n",
       "      <td>Best Recipe Blogs</td>\n",
       "      <td>https://entertainment.theonion.com/best-recipe-blogs-1844216522</td>\n",
       "      <td>Blogs for recipes have exploded in popularity over the past several years, with everyone from professional chefs to self-trained cooks providing recipes, inspiration, and tips to the foodie community. The Onion takes a look at the best recipe blogs on the internet.\\n\\n\\n\\nAdvertisement\\n\\nSerious Eats: This soberly written publication, which eschews the frivolity of pictures, is not for those ...</td>\n",
       "      <td>238</td>\n",
       "      <td>1566</td>\n",
       "      <td>3</td>\n",
       "      <td>17</td>\n",
       "    </tr>\n",
       "    <tr>\n",
       "      <th>506</th>\n",
       "      <td>TheOnion</td>\n",
       "      <td>This aged very well</td>\n",
       "      <td>https://local.theonion.com/ghost-of-christmas-future-taunts-children-with-visions-1819566694</td>\n",
       "      <td>SOUTHFIELD, MI—Bored with scaring elderly misers, the Ghost of Christmas Future is spending the holiday season taunting modern children with visions of Christmas 2016's hottest toy: the Sony PlayStation 5, a 2,048-bit console featuring a 45-Ghz trinary processor, CineReal graphics booster with 2-gig biotexturing, and an RSP connector for 360-degree online-immersion play.\\n\\nThe Ghost of Christ...</td>\n",
       "      <td>845</td>\n",
       "      <td>5059</td>\n",
       "      <td>4</td>\n",
       "      <td>19</td>\n",
       "    </tr>\n",
       "    <tr>\n",
       "      <th>835</th>\n",
       "      <td>TheOnion</td>\n",
       "      <td>Bad News: Toad Died</td>\n",
       "      <td>https://ogn.theonion.com/bad-news-toad-died-1844673221</td>\n",
       "      <td>Hello everyone, it pains us to do this, but we have some really bad news. Mario’s longtime sidekick Toad died last night surrounded by his friends and family after a long battle with pancreatic cancer.\\n\\n\\n\\nAdvertisement\\n\\nWe figured it would be best if you heard it from us first.\\n\\nObviously, this is a huge blow to the gaming community. Living in a world without Toad around is going to be...</td>\n",
       "      <td>97</td>\n",
       "      <td>547</td>\n",
       "      <td>4</td>\n",
       "      <td>19</td>\n",
       "    </tr>\n",
       "  </tbody>\n",
       "</table>\n",
       "</div>"
      ],
      "text/plain": [
       "    subreddit                title  \\\n",
       "981  TheOnion            Ask A Bee   \n",
       "152  TheOnion       Seems sensible   \n",
       "977  TheOnion    Best Recipe Blogs   \n",
       "506  TheOnion  This aged very well   \n",
       "835  TheOnion  Bad News: Toad Died   \n",
       "\n",
       "                                                                                              url  \\\n",
       "981                                                 https://www.theonion.com/ask-a-bee-1819583411   \n",
       "152   https://www.theonion.com/woman-quick-to-clarify-that-child-in-dating-profile-pic-1846174572   \n",
       "977                               https://entertainment.theonion.com/best-recipe-blogs-1844216522   \n",
       "506  https://local.theonion.com/ghost-of-christmas-future-taunts-children-with-visions-1819566694   \n",
       "835                                        https://ogn.theonion.com/bad-news-toad-died-1844673221   \n",
       "\n",
       "                                                                                                                                                                                                                                                                                                                                                                                                        article_text  \\\n",
       "981  Worker Bee #7438-F87904\\n\\nAdvertisement\\n\\nDear Worker Bee #7438-F87904,\\n\\nMy husband and I split last year after 11 years of marriage. We’re still good friends, though, and we even go out for coffee once a week. Problem is, lately, he’s been seeing a new person, someone I feel is definitely not right for him. Should I say anything? I’m not jealous—I know I wasn’t right for him, either. What...   \n",
       "152  SKOKIE, IL—In an effort to ensure that potential mates wouldn’t get the wrong idea, local woman Karen Dugas told reporters Monday she was always quick to clarify that the child in her dating profile picture wasn’t actually alive anymore. “It’s such a cute snapshot of the two of us at her second birthday party that I wanted to share it, but I always make sure people know I’m totally unattached ...   \n",
       "977  Blogs for recipes have exploded in popularity over the past several years, with everyone from professional chefs to self-trained cooks providing recipes, inspiration, and tips to the foodie community. The Onion takes a look at the best recipe blogs on the internet.\\n\\n\\n\\nAdvertisement\\n\\nSerious Eats: This soberly written publication, which eschews the frivolity of pictures, is not for those ...   \n",
       "506  SOUTHFIELD, MI—Bored with scaring elderly misers, the Ghost of Christmas Future is spending the holiday season taunting modern children with visions of Christmas 2016's hottest toy: the Sony PlayStation 5, a 2,048-bit console featuring a 45-Ghz trinary processor, CineReal graphics booster with 2-gig biotexturing, and an RSP connector for 360-degree online-immersion play.\\n\\nThe Ghost of Christ...   \n",
       "835  Hello everyone, it pains us to do this, but we have some really bad news. Mario’s longtime sidekick Toad died last night surrounded by his friends and family after a long battle with pancreatic cancer.\\n\\n\\n\\nAdvertisement\\n\\nWe figured it would be best if you heard it from us first.\\n\\nObviously, this is a huge blow to the gaming community. Living in a world without Toad around is going to be...   \n",
       "\n",
       "     article_text_num_words  article_text_length  title_num_words  \\\n",
       "981                     503                 3661                3   \n",
       "152                     191                 1043                2   \n",
       "977                     238                 1566                3   \n",
       "506                     845                 5059                4   \n",
       "835                      97                  547                4   \n",
       "\n",
       "     title_length  \n",
       "981             9  \n",
       "152            14  \n",
       "977            17  \n",
       "506            19  \n",
       "835            19  "
      ]
     },
     "execution_count": 37,
     "metadata": {},
     "output_type": "execute_result"
    }
   ],
   "source": [
    "# Check the first 5 entries of the DataFrame.\n",
    "\n",
    "theonion.full_df.head()"
   ]
  },
  {
   "cell_type": "markdown",
   "metadata": {},
   "source": [
    "As we are trying to flag out Satire news among real headlines, we will convert `theonion` under `subreddit` to 1."
   ]
  },
  {
   "cell_type": "code",
   "execution_count": 39,
   "metadata": {},
   "outputs": [],
   "source": [
    "theonion.full_df.subreddit = 1"
   ]
  },
  {
   "cell_type": "code",
   "execution_count": 40,
   "metadata": {},
   "outputs": [],
   "source": [
    "# Save the cleaned DataFrame\n",
    "\n",
    "theonion.full_df.to_csv('../data/theonion/theonion_clean.csv', index=False)"
   ]
  },
  {
   "cell_type": "markdown",
   "metadata": {},
   "source": [
    "Now that we have cleaned the DataFrames from both subreddits, we'll combine them into a single DataFrame and split them into a train and test set."
   ]
  },
  {
   "cell_type": "code",
   "execution_count": 41,
   "metadata": {},
   "outputs": [],
   "source": [
    "# Combine DataFrames\n",
    "full_data = world_news.full_df.merge(theonion.full_df, how='outer')\n",
    "\n",
    "# Save the full data\n",
    "full_data.to_csv('../data/full_data.csv', index=False)"
   ]
  },
  {
   "cell_type": "code",
   "execution_count": 42,
   "metadata": {},
   "outputs": [],
   "source": [
    "# To make our data feel more randomized, we will shuffle the dataset, with random_state for replicability\n",
    "shuffle_df = full_data.sample(frac=1, random_state = 7)\n",
    "\n",
    "# Define a size for the train set \n",
    "train_size = int(0.7 * len(full_data))\n",
    "\n",
    "# Split your dataset \n",
    "train = shuffle_df[:train_size]\n",
    "test = shuffle_df[train_size:]"
   ]
  },
  {
   "cell_type": "code",
   "execution_count": 43,
   "metadata": {},
   "outputs": [],
   "source": [
    "# Save the split datasets\n",
    "train.to_csv('../data/train.csv', index=False)\n",
    "test.to_csv('../data/test.csv', index=False)"
   ]
  }
 ],
 "metadata": {
  "kernelspec": {
   "display_name": "Python 3",
   "language": "python",
   "name": "python3"
  },
  "language_info": {
   "codemirror_mode": {
    "name": "ipython",
    "version": 3
   },
   "file_extension": ".py",
   "mimetype": "text/x-python",
   "name": "python",
   "nbconvert_exporter": "python",
   "pygments_lexer": "ipython3",
   "version": "3.8.5"
  }
 },
 "nbformat": 4,
 "nbformat_minor": 4
}
