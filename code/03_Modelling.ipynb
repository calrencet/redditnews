{
 "cells": [
  {
   "cell_type": "code",
   "execution_count": 2,
   "metadata": {},
   "outputs": [],
   "source": [
    "# Import the necessary modules\n",
    "\n",
    "import matplotlib.pyplot as plt\n",
    "import pandas as pd\n",
    "import seaborn as sns\n",
    "import numpy as np\n",
    "import re\n",
    "\n",
    "from sklearn.feature_extraction.text import CountVectorizer, TfidfVectorizer\n",
    "from sklearn.model_selection import train_test_split, GridSearchCV\n",
    "from sklearn.pipeline import Pipeline\n",
    "from sklearn.metrics import confusion_matrix, plot_confusion_matrix , ConfusionMatrixDisplay\n",
    "from sklearn.compose import ColumnTransformer, make_column_transformer\n",
    "from sklearn.ensemble import RandomForestClassifier, ExtraTreesClassifier\n",
    "from sklearn.preprocessing import StandardScaler\n",
    "from sklearn.neighbors import KNeighborsClassifier\n",
    "from estimators import EstimatorChecker\n",
    "from statsmodels.stats.contingency_tables import mcnemar\n",
    "\n",
    "# Increase the number of characters displayed in a Pandas column\n",
    "pd.options.display.max_colwidth = 400"
   ]
  },
  {
   "cell_type": "markdown",
   "metadata": {},
   "source": [
    "---\n",
    "\n",
    "# 04 - Data Modelling  \n",
    "\n",
    "Having explored the data, we will now create models which will predict the subreddit based on the `title`, `article_text`, and/or `length` and `num_words` in both.  \n",
    "\n",
    "We will begin by setting our features as X and target (subreddit) as y, and doing a train_test_split on the training data."
   ]
  },
  {
   "cell_type": "code",
   "execution_count": 3,
   "metadata": {},
   "outputs": [],
   "source": [
    "# Load the datasets\n",
    "train = pd.read_csv('../data/train.csv')\n",
    "test = pd.read_csv('../data/test.csv')"
   ]
  },
  {
   "cell_type": "code",
   "execution_count": 4,
   "metadata": {},
   "outputs": [],
   "source": [
    "# Set X to our predictor features and y to our target\n",
    "X = train.drop(['subreddit','url'],axis=1).copy()\n",
    "y = train.subreddit"
   ]
  },
  {
   "cell_type": "code",
   "execution_count": 5,
   "metadata": {},
   "outputs": [],
   "source": [
    "# Set our test_X to our predictor features and test_y to our target\n",
    "test_X = test.drop(['subreddit','url'],axis=1).copy()\n",
    "test_y = test.subreddit"
   ]
  },
  {
   "cell_type": "code",
   "execution_count": 6,
   "metadata": {},
   "outputs": [],
   "source": [
    "# Perform a train_test_split on the training data. We will not stratify y as it is not imbalanced.\n",
    "X_train, X_test, y_train, y_test = train_test_split(X, y, test_size = 0.2, random_state=42)"
   ]
  },
  {
   "cell_type": "markdown",
   "metadata": {},
   "source": [
    "### Preprocessing\n",
    "\n",
    "Next, we will do some preprocessing and feature engineering.  \n",
    "Numerical features will be identified and scaled with StandardScaler, while text features will be transformed with TfidfVectorizer.  \n",
    "We will not be using CountVectorizer as we had identified in the EDA that there was an imbalance in the frequency of words, hence we want to reduce the bias by considering overall document weightage."
   ]
  },
  {
   "cell_type": "code",
   "execution_count": 7,
   "metadata": {},
   "outputs": [],
   "source": [
    "# Identify the numerical and text features\n",
    "numerical_features = X_train.dtypes == 'int64'\n",
    "text_features = ~numerical_features"
   ]
  },
  {
   "cell_type": "code",
   "execution_count": 8,
   "metadata": {},
   "outputs": [],
   "source": [
    "# Use column transformer so that we can perform both standard-scaling and TfidfVectorizing.\n",
    "preprocess = make_column_transformer(\n",
    "(StandardScaler(), numerical_features),\n",
    "(TfidfVectorizer(max_features = 1000, stop_words = 'english', ngram_range = (1,2)), 'title'),\n",
    "(TfidfVectorizer(max_features = 1000, stop_words = 'english', ngram_range = (1,2)), 'article_text'))"
   ]
  },
  {
   "cell_type": "code",
   "execution_count": 9,
   "metadata": {},
   "outputs": [],
   "source": [
    "# Assign the transformed data to new variables\n",
    "\n",
    "X_train_pre = preprocess.fit_transform(X_train)\n",
    "X_test_pre = preprocess.transform(X_test)\n",
    "test_X_pre = preprocess.transform(test_X)"
   ]
  },
  {
   "cell_type": "code",
   "execution_count": 10,
   "metadata": {},
   "outputs": [
    {
     "data": {
      "text/plain": [
       "<966x2004 sparse matrix of type '<class 'numpy.float64'>'\n",
       "\twith 79298 stored elements in Compressed Sparse Row format>"
      ]
     },
     "execution_count": 10,
     "metadata": {},
     "output_type": "execute_result"
    }
   ],
   "source": [
    "X_train_pre"
   ]
  },
  {
   "cell_type": "markdown",
   "metadata": {},
   "source": [
    "### Baseline model  \n",
    "\n",
    "We will need a baseline model for us to compare our results to.\n",
    "\n",
    "To do this, we can simply get a normalized count of the target values. If we predicted the whole dataset to be `theonion`, this would be our accuracy."
   ]
  },
  {
   "cell_type": "code",
   "execution_count": 9,
   "metadata": {},
   "outputs": [
    {
     "data": {
      "text/plain": [
       "0    270\n",
       "1    248\n",
       "Name: subreddit, dtype: int64"
      ]
     },
     "execution_count": 9,
     "metadata": {},
     "output_type": "execute_result"
    }
   ],
   "source": [
    "test_y.value_counts()"
   ]
  },
  {
   "cell_type": "code",
   "execution_count": 10,
   "metadata": {},
   "outputs": [
    {
     "name": "stdout",
     "output_type": "stream",
     "text": [
      "Accuracy score of the baseline: 0.479\n"
     ]
    }
   ],
   "source": [
    "# Null model of the test_y\n",
    "print(f'Accuracy score of the baseline: {round(test_y.value_counts(normalize=True)[1],3)}')"
   ]
  },
  {
   "cell_type": "code",
   "execution_count": 11,
   "metadata": {},
   "outputs": [
    {
     "data": {
      "text/plain": [
       "<Figure size 576x576 with 0 Axes>"
      ]
     },
     "metadata": {},
     "output_type": "display_data"
    },
    {
     "data": {
      "image/png": "[encoded data removed]",
      "text/plain": [
       "<Figure size 432x288 with 2 Axes>"
      ]
     },
     "metadata": {
      "needs_background": "light"
     },
     "output_type": "display_data"
    }
   ],
   "source": [
    "# Plot the confusion matrix of the baseline model\n",
    "plt.figure(figsize=(8,8))\n",
    "disp = ConfusionMatrixDisplay(confusion_matrix=np.asarray([[0,270],[0,248]]))\n",
    "disp = disp.plot(cmap='Blues')\n",
    "plt.title('Confusion matrix of the baseline model')\n",
    "plt.savefig(fname='../img/cm_null.png')\n",
    "plt.show()\n"
   ]
  },
  {
   "cell_type": "markdown",
   "metadata": {},
   "source": [
    "As you can see, the baseline model predicts 248 out of 518 (47.9%) posts correctly. This is not a good accuracy by any means."
   ]
  },
  {
   "cell_type": "markdown",
   "metadata": {},
   "source": [
    "### Hypothesis testing  \n",
    "\n",
    "Now that we have a baseline model, we can formulate a hypothesis test.  \n",
    "\n",
    "The hypothesis test will use the McNemar's test to compare the accuracy of the baseline model and the trained model.\n",
    "\n",
    "$H0 : $There is no difference in accuracy between the baseline model and the trained model.  \n",
    "$ H0 :  \\frac{(|B - C| -1)^2} {B + C} = 0$  \n",
    "\n",
    "$HA : $There is a difference in accuracy between the baseline model and the trained model.  \n",
    "$ HA : \\frac{(|B - C| -1)^2} {B + C} \\neq 0$ \n",
    "\n",
    "Level of significance: $\\alpha = 0.05$\n",
    "\n",
    "Where B is the number of predictions that the baseline model predicted correctly but the trained model predicted wrongly, and C is the number of predictions that the trained model predicted correctly but the baseline model predicted wrongly."
   ]
  },
  {
   "cell_type": "markdown",
   "metadata": {},
   "source": [
    "### Finding the best estimator and parameters  \n",
    "\n",
    "In order to pick the best estimator and parameters, a custom class will be used to do multiple gridsearches for each estimator and parameter that we specify and produce a dataframe of the min, max, mean scores for the combinations of estimators and parameters."
   ]
  },
  {
   "cell_type": "code",
   "execution_count": 12,
   "metadata": {},
   "outputs": [],
   "source": [
    "# Create a dictionary of estimators that we want to check\n",
    "estimators = {\n",
    "    'rfc': RandomForestClassifier(),\n",
    "    'knn': KNeighborsClassifier()\n",
    "}"
   ]
  },
  {
   "cell_type": "code",
   "execution_count": 13,
   "metadata": {},
   "outputs": [],
   "source": [
    "# Create a dictionary of parameters for the estimators that we want to check\n",
    "params = {\n",
    "    'rfc': {'n_estimators': [50,100,250,500], 'max_depth': [None, 3, 5, 7],'max_features': ['sqrt','log2',1/3], 'random_state': [6]},\n",
    "    'knn': {'n_neighbors': [2,3,4,5], 'p': [1,2], 'n_jobs': [-1],'weights': ['distance','uniform']}\n",
    "}"
   ]
  },
  {
   "cell_type": "code",
   "execution_count": 14,
   "metadata": {
    "scrolled": true
   },
   "outputs": [
    {
     "name": "stdout",
     "output_type": "stream",
     "text": [
      "Running GridSearchCV for rfc.\n",
      "Fitting 5 folds for each of 48 candidates, totalling 240 fits\n"
     ]
    },
    {
     "name": "stderr",
     "output_type": "stream",
     "text": [
      "[Parallel(n_jobs=-1)]: Using backend LokyBackend with 8 concurrent workers.\n",
      "[Parallel(n_jobs=-1)]: Done  34 tasks      | elapsed:    6.9s\n",
      "[Parallel(n_jobs=-1)]: Done 184 tasks      | elapsed:   33.7s\n",
      "[Parallel(n_jobs=-1)]: Done 240 out of 240 | elapsed:   49.9s finished\n",
      "[Parallel(n_jobs=-1)]: Using backend LokyBackend with 8 concurrent workers.\n"
     ]
    },
    {
     "name": "stdout",
     "output_type": "stream",
     "text": [
      "Running GridSearchCV for knn.\n",
      "Fitting 5 folds for each of 16 candidates, totalling 80 fits\n"
     ]
    },
    {
     "name": "stderr",
     "output_type": "stream",
     "text": [
      "[Parallel(n_jobs=-1)]: Done  34 tasks      | elapsed:    2.7s\n",
      "[Parallel(n_jobs=-1)]: Done  80 out of  80 | elapsed:    5.5s finished\n"
     ]
    }
   ],
   "source": [
    "# Instantiate an instance of the EstimatorChecker class with the estimators and parameters.\n",
    "estimators_check = EstimatorChecker(estimators, params)\n",
    "\n",
    "# Fit the instance with the transformed X_train and the y_train to train and score the model\n",
    "estimators_check.fit(X_train_pre, y_train)"
   ]
  },
  {
   "cell_type": "code",
   "execution_count": 15,
   "metadata": {},
   "outputs": [
    {
     "name": "stdout",
     "output_type": "stream",
     "text": [
      "rfc\n",
      "knn\n"
     ]
    },
    {
     "data": {
      "text/html": [
       "<div>\n",
       "<style scoped>\n",
       "    .dataframe tbody tr th:only-of-type {\n",
       "        vertical-align: middle;\n",
       "    }\n",
       "\n",
       "    .dataframe tbody tr th {\n",
       "        vertical-align: top;\n",
       "    }\n",
       "\n",
       "    .dataframe thead th {\n",
       "        text-align: right;\n",
       "    }\n",
       "</style>\n",
       "<table border=\"1\" class=\"dataframe\">\n",
       "  <thead>\n",
       "    <tr style=\"text-align: right;\">\n",
       "      <th></th>\n",
       "      <th>estimator</th>\n",
       "      <th>min_score</th>\n",
       "      <th>mean_score</th>\n",
       "      <th>max_score</th>\n",
       "      <th>std_score</th>\n",
       "      <th>max_depth</th>\n",
       "      <th>max_features</th>\n",
       "      <th>n_estimators</th>\n",
       "      <th>random_state</th>\n",
       "      <th>n_jobs</th>\n",
       "      <th>n_neighbors</th>\n",
       "      <th>p</th>\n",
       "      <th>weights</th>\n",
       "    </tr>\n",
       "  </thead>\n",
       "  <tbody>\n",
       "    <tr>\n",
       "      <th>3</th>\n",
       "      <td>rfc</td>\n",
       "      <td>0.937824</td>\n",
       "      <td>0.954442</td>\n",
       "      <td>0.968912</td>\n",
       "      <td>0.0110961</td>\n",
       "      <td>None</td>\n",
       "      <td>sqrt</td>\n",
       "      <td>500</td>\n",
       "      <td>6</td>\n",
       "      <td>NaN</td>\n",
       "      <td>NaN</td>\n",
       "      <td>NaN</td>\n",
       "      <td>NaN</td>\n",
       "    </tr>\n",
       "    <tr>\n",
       "      <th>2</th>\n",
       "      <td>rfc</td>\n",
       "      <td>0.937824</td>\n",
       "      <td>0.9534</td>\n",
       "      <td>0.969072</td>\n",
       "      <td>0.0118576</td>\n",
       "      <td>None</td>\n",
       "      <td>sqrt</td>\n",
       "      <td>250</td>\n",
       "      <td>6</td>\n",
       "      <td>NaN</td>\n",
       "      <td>NaN</td>\n",
       "      <td>NaN</td>\n",
       "      <td>NaN</td>\n",
       "    </tr>\n",
       "    <tr>\n",
       "      <th>5</th>\n",
       "      <td>rfc</td>\n",
       "      <td>0.937824</td>\n",
       "      <td>0.951338</td>\n",
       "      <td>0.958763</td>\n",
       "      <td>0.00779507</td>\n",
       "      <td>None</td>\n",
       "      <td>log2</td>\n",
       "      <td>100</td>\n",
       "      <td>6</td>\n",
       "      <td>NaN</td>\n",
       "      <td>NaN</td>\n",
       "      <td>NaN</td>\n",
       "      <td>NaN</td>\n",
       "    </tr>\n",
       "    <tr>\n",
       "      <th>1</th>\n",
       "      <td>rfc</td>\n",
       "      <td>0.932642</td>\n",
       "      <td>0.951338</td>\n",
       "      <td>0.958763</td>\n",
       "      <td>0.00964255</td>\n",
       "      <td>None</td>\n",
       "      <td>sqrt</td>\n",
       "      <td>100</td>\n",
       "      <td>6</td>\n",
       "      <td>NaN</td>\n",
       "      <td>NaN</td>\n",
       "      <td>NaN</td>\n",
       "      <td>NaN</td>\n",
       "    </tr>\n",
       "    <tr>\n",
       "      <th>6</th>\n",
       "      <td>rfc</td>\n",
       "      <td>0.932642</td>\n",
       "      <td>0.950307</td>\n",
       "      <td>0.963731</td>\n",
       "      <td>0.0101685</td>\n",
       "      <td>None</td>\n",
       "      <td>log2</td>\n",
       "      <td>250</td>\n",
       "      <td>6</td>\n",
       "      <td>NaN</td>\n",
       "      <td>NaN</td>\n",
       "      <td>NaN</td>\n",
       "      <td>NaN</td>\n",
       "    </tr>\n",
       "    <tr>\n",
       "      <th>...</th>\n",
       "      <td>...</td>\n",
       "      <td>...</td>\n",
       "      <td>...</td>\n",
       "      <td>...</td>\n",
       "      <td>...</td>\n",
       "      <td>...</td>\n",
       "      <td>...</td>\n",
       "      <td>...</td>\n",
       "      <td>...</td>\n",
       "      <td>...</td>\n",
       "      <td>...</td>\n",
       "      <td>...</td>\n",
       "      <td>...</td>\n",
       "    </tr>\n",
       "    <tr>\n",
       "      <th>52</th>\n",
       "      <td>knn</td>\n",
       "      <td>0.747423</td>\n",
       "      <td>0.791972</td>\n",
       "      <td>0.813472</td>\n",
       "      <td>0.0250003</td>\n",
       "      <td>NaN</td>\n",
       "      <td>NaN</td>\n",
       "      <td>NaN</td>\n",
       "      <td>NaN</td>\n",
       "      <td>-1</td>\n",
       "      <td>3</td>\n",
       "      <td>1</td>\n",
       "      <td>distance</td>\n",
       "    </tr>\n",
       "    <tr>\n",
       "      <th>56</th>\n",
       "      <td>knn</td>\n",
       "      <td>0.747423</td>\n",
       "      <td>0.790935</td>\n",
       "      <td>0.818653</td>\n",
       "      <td>0.025479</td>\n",
       "      <td>NaN</td>\n",
       "      <td>NaN</td>\n",
       "      <td>NaN</td>\n",
       "      <td>NaN</td>\n",
       "      <td>-1</td>\n",
       "      <td>4</td>\n",
       "      <td>1</td>\n",
       "      <td>distance</td>\n",
       "    </tr>\n",
       "    <tr>\n",
       "      <th>53</th>\n",
       "      <td>knn</td>\n",
       "      <td>0.742268</td>\n",
       "      <td>0.787832</td>\n",
       "      <td>0.80829</td>\n",
       "      <td>0.0255324</td>\n",
       "      <td>NaN</td>\n",
       "      <td>NaN</td>\n",
       "      <td>NaN</td>\n",
       "      <td>NaN</td>\n",
       "      <td>-1</td>\n",
       "      <td>3</td>\n",
       "      <td>1</td>\n",
       "      <td>uniform</td>\n",
       "    </tr>\n",
       "    <tr>\n",
       "      <th>60</th>\n",
       "      <td>knn</td>\n",
       "      <td>0.731959</td>\n",
       "      <td>0.778516</td>\n",
       "      <td>0.80829</td>\n",
       "      <td>0.0264122</td>\n",
       "      <td>NaN</td>\n",
       "      <td>NaN</td>\n",
       "      <td>NaN</td>\n",
       "      <td>NaN</td>\n",
       "      <td>-1</td>\n",
       "      <td>5</td>\n",
       "      <td>1</td>\n",
       "      <td>distance</td>\n",
       "    </tr>\n",
       "    <tr>\n",
       "      <th>61</th>\n",
       "      <td>knn</td>\n",
       "      <td>0.731959</td>\n",
       "      <td>0.776444</td>\n",
       "      <td>0.80829</td>\n",
       "      <td>0.0256086</td>\n",
       "      <td>NaN</td>\n",
       "      <td>NaN</td>\n",
       "      <td>NaN</td>\n",
       "      <td>NaN</td>\n",
       "      <td>-1</td>\n",
       "      <td>5</td>\n",
       "      <td>1</td>\n",
       "      <td>uniform</td>\n",
       "    </tr>\n",
       "  </tbody>\n",
       "</table>\n",
       "<p>64 rows × 13 columns</p>\n",
       "</div>"
      ],
      "text/plain": [
       "   estimator min_score mean_score max_score   std_score max_depth  \\\n",
       "3        rfc  0.937824   0.954442  0.968912   0.0110961      None   \n",
       "2        rfc  0.937824     0.9534  0.969072   0.0118576      None   \n",
       "5        rfc  0.937824   0.951338  0.958763  0.00779507      None   \n",
       "1        rfc  0.932642   0.951338  0.958763  0.00964255      None   \n",
       "6        rfc  0.932642   0.950307  0.963731   0.0101685      None   \n",
       "..       ...       ...        ...       ...         ...       ...   \n",
       "52       knn  0.747423   0.791972  0.813472   0.0250003       NaN   \n",
       "56       knn  0.747423   0.790935  0.818653    0.025479       NaN   \n",
       "53       knn  0.742268   0.787832   0.80829   0.0255324       NaN   \n",
       "60       knn  0.731959   0.778516   0.80829   0.0264122       NaN   \n",
       "61       knn  0.731959   0.776444   0.80829   0.0256086       NaN   \n",
       "\n",
       "   max_features n_estimators random_state n_jobs n_neighbors    p   weights  \n",
       "3          sqrt          500            6    NaN         NaN  NaN       NaN  \n",
       "2          sqrt          250            6    NaN         NaN  NaN       NaN  \n",
       "5          log2          100            6    NaN         NaN  NaN       NaN  \n",
       "1          sqrt          100            6    NaN         NaN  NaN       NaN  \n",
       "6          log2          250            6    NaN         NaN  NaN       NaN  \n",
       "..          ...          ...          ...    ...         ...  ...       ...  \n",
       "52          NaN          NaN          NaN     -1           3    1  distance  \n",
       "56          NaN          NaN          NaN     -1           4    1  distance  \n",
       "53          NaN          NaN          NaN     -1           3    1   uniform  \n",
       "60          NaN          NaN          NaN     -1           5    1  distance  \n",
       "61          NaN          NaN          NaN     -1           5    1   uniform  \n",
       "\n",
       "[64 rows x 13 columns]"
      ]
     },
     "execution_count": 15,
     "metadata": {},
     "output_type": "execute_result"
    }
   ],
   "source": [
    "# Check the top 5 models in terms of mean_score \n",
    "estimators_check.score_summary(sort_by='mean_score')"
   ]
  },
  {
   "cell_type": "markdown",
   "metadata": {},
   "source": [
    "The model which performed the best was `rfc` with `max_depth=None`, `max_features=sqrt` and `n_estimators=500` with an average accuracy of 0.95442.  \n",
    "\n",
    "Thus, we will use these parameters for our model."
   ]
  },
  {
   "cell_type": "markdown",
   "metadata": {},
   "source": [
    "### Instantiating, fitting, and scoring our model"
   ]
  },
  {
   "cell_type": "code",
   "execution_count": 16,
   "metadata": {},
   "outputs": [
    {
     "data": {
      "text/plain": [
       "RandomForestClassifier(max_features='sqrt', n_estimators=500, n_jobs=-1,\n",
       "                       random_state=6)"
      ]
     },
     "execution_count": 16,
     "metadata": {},
     "output_type": "execute_result"
    }
   ],
   "source": [
    "# Instantiate the RandomForestClassifier with our best parameters\n",
    "rfc = RandomForestClassifier(n_estimators = 500, max_features = 'sqrt', n_jobs=-1, random_state = 6)\n",
    "\n",
    "# Fit the model to our training data\n",
    "rfc.fit(X_train_pre, y_train)"
   ]
  },
  {
   "cell_type": "code",
   "execution_count": 17,
   "metadata": {},
   "outputs": [],
   "source": [
    "# Check the score of our training data\n",
    "train_score = rfc.score(X_train_pre, y_train)\n",
    "\n",
    "# Check the score on our testing data (From the train-test-split)\n",
    "train_test_score = rfc.score(X_test_pre, y_test)\n",
    "\n",
    "# Check the score on our new data from the test dataset\n",
    "test_score = rfc.score(test_X_pre, test_y)"
   ]
  },
  {
   "cell_type": "code",
   "execution_count": 18,
   "metadata": {},
   "outputs": [
    {
     "name": "stdout",
     "output_type": "stream",
     "text": [
      "The accuracy score of the model on the training data is 1.0.\n",
      "The accuracy score of the model on the training test data is 0.9628099173553719.\n",
      "The accuracy score of the model on the test data is 0.9613899613899614.\n"
     ]
    }
   ],
   "source": [
    "print(f'The accuracy score of the model on the training data is {train_score}.')\n",
    "print(f'The accuracy score of the model on the training test data is {train_test_score}.')\n",
    "print(f'The accuracy score of the model on the test data is {test_score}.')"
   ]
  },
  {
   "cell_type": "markdown",
   "metadata": {},
   "source": [
    "The model had a high accuracy of 1.0 on the training data as that is what the model was training on.  \n",
    "When it came to unseen data from the training test set as well as the actual test data, the model was slightly less accurate, with accuracy of 96% and 97% respectively.  \n",
    "\n",
    "This is still quite a good result as there is not a large variance of error.  \n",
    "\n",
    "However, since we are trying to predict if a post is from `TheOnion` based on the features, accuracy is not our best predictor.  \n",
    "\n",
    "We want a collection of headlines and articles that sound real but are actually satire to use as skits for the Drama club. Hence, we want to minimize the number of false positives, which are posts that were predicted to be from `TheOnion` but were actually `WorldNews`.  \n",
    "\n",
    "This is because we only want to perform skits which are not based on real events."
   ]
  },
  {
   "cell_type": "code",
   "execution_count": 19,
   "metadata": {},
   "outputs": [
    {
     "data": {
      "text/plain": [
       "array([[265,   5],\n",
       "       [ 15, 233]], dtype=int64)"
      ]
     },
     "execution_count": 19,
     "metadata": {},
     "output_type": "execute_result"
    }
   ],
   "source": [
    "# Predict the results of the test set and plot a confusion matrix\n",
    "y_preds = rfc.predict(test_X_pre)\n",
    "cm = confusion_matrix(test_y, y_preds)\n",
    "cm"
   ]
  },
  {
   "cell_type": "code",
   "execution_count": 20,
   "metadata": {},
   "outputs": [
    {
     "data": {
      "image/png": "[encoded data removed]",
      "text/plain": [
       "<Figure size 432x288 with 2 Axes>"
      ]
     },
     "metadata": {
      "needs_background": "light"
     },
     "output_type": "display_data"
    }
   ],
   "source": [
    "# Visualize the confusion matrix\n",
    "\n",
    "plot_confusion_matrix(rfc, test_X_pre, test_y, cmap='Blues', values_format='d')\n",
    "plt.title('Confusion matrix of the trained model')\n",
    "\n",
    "# Save the plots as an image file.\n",
    "plt.savefig(fname='../img/cm.png')"
   ]
  },
  {
   "cell_type": "markdown",
   "metadata": {},
   "source": [
    "Visualizing the confusion matrix, we can see that we have very few false negatives and even fewer false positives, which is good."
   ]
  },
  {
   "cell_type": "code",
   "execution_count": 21,
   "metadata": {},
   "outputs": [
    {
     "name": "stdout",
     "output_type": "stream",
     "text": [
      "Accuracy: 0.9613899613899614\n",
      "Sensitivity: 0.9395161290322581\n",
      "Specificity: 0.9814814814814815\n"
     ]
    }
   ],
   "source": [
    "# Set the true negative, false positive, false negative, and true positive\n",
    "tn, fp, fn, tp = cm.ravel()\n",
    "\n",
    "# Calculate the specificity\n",
    "spec = tn/(tn+fp)\n",
    "\n",
    "# Calculate the sensitivity\n",
    "sens = tp/(tp+fn)\n",
    "\n",
    "print(f'Accuracy: {rfc.score(test_X_pre, test_y)}')\n",
    "print(f'Sensitivity: {tp/(tp+fn)}')\n",
    "print(f'Specificity: {tn/(tn+fp)}')"
   ]
  },
  {
   "cell_type": "markdown",
   "metadata": {},
   "source": [
    "As we explored above, the confusion matrix of our baseline model was:  \n",
    "![cm_null](../img/cm_null.png)  \n",
    "It got 248 correctly and 270 wrongly.\n",
    "  \n",
    "Our trained model predicted 498 correctly and 20 wrongly.  \n",
    "\n",
    "Putting this in a confusion matrix for our McNemar's test, we would get the following:"
   ]
  },
  {
   "cell_type": "code",
   "execution_count": 22,
   "metadata": {},
   "outputs": [
    {
     "data": {
      "image/png": "[encoded data removed]",
      "text/plain": [
       "<Figure size 432x288 with 2 Axes>"
      ]
     },
     "metadata": {
      "needs_background": "light"
     },
     "output_type": "display_data"
    }
   ],
   "source": [
    "# Plot the confusion matrix of the baseline model\n",
    "\n",
    "disp = ConfusionMatrixDisplay(confusion_matrix=np.asarray([[248,250],[0,20]]))\n",
    "disp = disp.plot(cmap='Blues')\n",
    "plt.title('Confusion matrix of baseline vs trained model')\n",
    "plt.xlabel('baseline model')\n",
    "plt.xticks(ticks=[0,1], labels=['correct','wrong'])\n",
    "plt.ylabel('trained model')\n",
    "plt.yticks(ticks=[0,1], labels=['correct','wrong'])\n",
    "plt.savefig(fname='../img/cm_mn.png')\n",
    "plt.show()"
   ]
  },
  {
   "cell_type": "markdown",
   "metadata": {},
   "source": [
    "Using this confusion matrix as an array, we can calculate the p-value for our hypothesis test using mcnemar from statsmodels."
   ]
  },
  {
   "cell_type": "code",
   "execution_count": 23,
   "metadata": {
    "scrolled": true
   },
   "outputs": [
    {
     "name": "stdout",
     "output_type": "stream",
     "text": [
      "p-value=1.105429575052089e-75\n"
     ]
    }
   ],
   "source": [
    "# Define contingency table\n",
    "table = [[248, 250],\n",
    "        [0, 20]]\n",
    "\n",
    "# Calculate the McNemar's test\n",
    "result = mcnemar(table, exact=True)\n",
    "\n",
    "# Summarize the finding\n",
    "print(f'p-value={result.pvalue}')"
   ]
  },
  {
   "cell_type": "markdown",
   "metadata": {},
   "source": [
    "The p-value that we calculated is less than 0.00001. Hence, we can reject the null hypothesis as it is highly improbable that we got these results by chance."
   ]
  },
  {
   "cell_type": "markdown",
   "metadata": {},
   "source": [
    "# Conclusion\n",
    "Our trained model was able to predict the subreddit with a very high specificity of 98%, which outperformed even its accuracy.  \n",
    "This is great news as a high specificity means that the number of false positives are low, which is what we are looking for.  \n",
    "\n",
    "The trained model outperformed the baseline model by more than double, and we have rejected the null hypothesis and accepted the alternative hypothesis that there is a difference in accuracy between the baseline model and the trained model.\n",
    "\n",
    "Hence we can conclude that the model will perform well for our needs, although there is still a small room for improvement if we are seeking a 100% specificity rate.  \n",
    "\n",
    "The TfidfVectorizer could be run through GridSearch to optimize the parameters, and more data can be collected in order to improve the model. Further, not all `article_text` could be extracted properly, and the data may not be accurate and completed, hence a better `article_text` scraper could be implemented."
   ]
  }
 ],
 "metadata": {
  "kernelspec": {
   "display_name": "Python 3",
   "language": "python",
   "name": "python3"
  },
  "language_info": {
   "codemirror_mode": {
    "name": "ipython",
    "version": 3
   },
   "file_extension": ".py",
   "mimetype": "text/x-python",
   "name": "python",
   "nbconvert_exporter": "python",
   "pygments_lexer": "ipython3",
   "version": "3.8.5"
  }
 },
 "nbformat": 4,
 "nbformat_minor": 4
}
